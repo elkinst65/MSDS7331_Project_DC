{
 "cells": [
  {
   "cell_type": "code",
   "execution_count": 1,
   "metadata": {
    "collapsed": false
   },
   "outputs": [
    {
     "name": "stdout",
     "output_type": "stream",
     "text": [
      "<class 'pandas.core.frame.DataFrame'>\n",
      "RangeIndex: 182465 entries, 0 to 182464\n",
      "Data columns (total 22 columns):\n",
      "true                    182465 non-null int64\n",
      "REPORT_DAT              182465 non-null object\n",
      "SHIFT                   182465 non-null object\n",
      "OFFENSE                 182465 non-null object\n",
      "METHOD                  182465 non-null object\n",
      "BLOCK                   182465 non-null object\n",
      "DISTRICT                182230 non-null float64\n",
      "PSA                     182225 non-null float64\n",
      "WARD                    182465 non-null int64\n",
      "ANC                     182465 non-null object\n",
      "NEIGHBORHOOD_CLUSTER    180380 non-null object\n",
      "BLOCK_GROUP             181895 non-null object\n",
      "CENSUS_TRACT            181895 non-null float64\n",
      "VOTING_PRECINCT         182400 non-null object\n",
      "CCN                     182465 non-null int64\n",
      "XBLOCK                  182465 non-null float64\n",
      "YBLOCK                  182465 non-null float64\n",
      "START_DATE              182465 non-null object\n",
      "END_DATE                181205 non-null object\n",
      "Lat                     182465 non-null float64\n",
      "Long                    182465 non-null float64\n",
      "REPORT_DAT_FORMAT       182465 non-null datetime64[ns]\n",
      "dtypes: datetime64[ns](1), float64(7), int64(3), object(11)\n",
      "memory usage: 30.6+ MB\n"
     ]
    }
   ],
   "source": [
    "# Import Data and format data \n",
    "import pandas as pd\n",
    "import sqlite3 as sl\n",
    "df = pd.read_csv('/Users/muraliparthasarathy/Documents/DataMining/DC_Crime_2015_LL.csv');\n",
    "con = sl.connect('/Users/muraliparthasarathy/Documents/DataMining/dcCrimeData.db');\n",
    "df.to_sql('dcCrimeData',con,schema='None',if_exists='append',index='true',index_label='None');\n",
    "dfsql = pd.read_sql('select * from dcCrimeData',con);\n",
    "dfsql['REPORT_DAT_FORMAT'] =  pd.to_datetime(dfsql['REPORT_DAT'])\n",
    "dfsql.info()"
   ]
  },
  {
   "cell_type": "code",
   "execution_count": 2,
   "metadata": {
    "collapsed": true
   },
   "outputs": [],
   "source": [
    "# update Reporting Date for day, month, year \n",
    "grades = []\n",
    "for row in dfsql['REPORT_DAT']:\n",
    "    grades.append(row[:2])\n",
    "dfsql['REPORT_Month'] = grades\n",
    "\n",
    "grades = []\n",
    "for row in dfsql['REPORT_DAT']:\n",
    "    grades.append(row[3:5])\n",
    "dfsql['REPORT_Day'] = grades\n",
    "\n",
    "grades = []\n",
    "for row in dfsql['REPORT_DAT']:\n",
    "    grades.append(row[6:11])\n",
    "dfsql['REPORT_Year'] = grades\n",
    "\n",
    "grades = []\n",
    "for row in dfsql['REPORT_DAT']:\n",
    "    grades.append(row[11:13])\n",
    "dfsql['REPORT_Hour'] = grades\n",
    "\n",
    "grades = []\n",
    "for row in dfsql['REPORT_DAT']:\n",
    "    grades.append(row[14:16])\n",
    "dfsql['REPORT_MINUTES'] = grades\n"
   ]
  },
  {
   "cell_type": "code",
   "execution_count": 3,
   "metadata": {
    "collapsed": false
   },
   "outputs": [
    {
     "name": "stdout",
     "output_type": "stream",
     "text": [
      "<class 'pandas.core.frame.DataFrame'>\n",
      "RangeIndex: 182465 entries, 0 to 182464\n",
      "Data columns (total 27 columns):\n",
      "true                    182465 non-null int64\n",
      "REPORT_DAT              182465 non-null object\n",
      "SHIFT                   182465 non-null object\n",
      "OFFENSE                 182465 non-null object\n",
      "METHOD                  182465 non-null object\n",
      "BLOCK                   182465 non-null object\n",
      "DISTRICT                182230 non-null float64\n",
      "PSA                     182225 non-null float64\n",
      "WARD                    182465 non-null int64\n",
      "ANC                     182465 non-null object\n",
      "NEIGHBORHOOD_CLUSTER    180380 non-null object\n",
      "BLOCK_GROUP             181895 non-null object\n",
      "CENSUS_TRACT            181895 non-null float64\n",
      "VOTING_PRECINCT         182400 non-null object\n",
      "CCN                     182465 non-null int64\n",
      "XBLOCK                  182465 non-null float64\n",
      "YBLOCK                  182465 non-null float64\n",
      "START_DATE              182465 non-null object\n",
      "END_DATE                181205 non-null object\n",
      "Lat                     182465 non-null float64\n",
      "Long                    182465 non-null float64\n",
      "REPORT_DAT_FORMAT       182465 non-null datetime64[ns]\n",
      "REPORT_Month            182465 non-null object\n",
      "REPORT_Day              182465 non-null object\n",
      "REPORT_Year             182465 non-null object\n",
      "REPORT_Hour             182465 non-null object\n",
      "REPORT_MINUTES          182465 non-null object\n",
      "dtypes: datetime64[ns](1), float64(7), int64(3), object(16)\n",
      "memory usage: 37.6+ MB\n"
     ]
    }
   ],
   "source": [
    "dfsql.info()"
   ]
  },
  {
   "cell_type": "code",
   "execution_count": 4,
   "metadata": {
    "collapsed": false
   },
   "outputs": [
    {
     "data": {
      "text/plain": [
       "array([u'DAY', u'EVENING', u'MIDNIGHT'], dtype=object)"
      ]
     },
     "execution_count": 4,
     "metadata": {},
     "output_type": "execute_result"
    }
   ],
   "source": [
    "dfsql['SHIFT'].unique()"
   ]
  },
  {
   "cell_type": "code",
   "execution_count": 5,
   "metadata": {
    "collapsed": true
   },
   "outputs": [],
   "source": [
    " #Update Shift\n",
    "    shift_num = []\n",
    "for row in dfsql['SHIFT']:\n",
    "    if row == 'DAY':\n",
    "         shift_num.append(1)\n",
    "    if row == 'EVENING':\n",
    "         shift_num.append(2)\n",
    "    if row == 'MIDNIGHT':\n",
    "         shift_num.append(3)\n",
    "            \n",
    "dfsql['SHIFT_NUM'] = shift_num    \n",
    "\n"
   ]
  },
  {
   "cell_type": "code",
   "execution_count": 7,
   "metadata": {
    "collapsed": false,
    "scrolled": true
   },
   "outputs": [
    {
     "data": {
      "text/plain": [
       "array([u'OTHERS', u'GUN', u'KNIFE'], dtype=object)"
      ]
     },
     "execution_count": 7,
     "metadata": {},
     "output_type": "execute_result"
    }
   ],
   "source": [
    "dfsql['METHOD'].unique()"
   ]
  },
  {
   "cell_type": "code",
   "execution_count": 9,
   "metadata": {
    "collapsed": false
   },
   "outputs": [],
   "source": [
    "# Update Method\n",
    "method_num = []\n",
    "for row in dfsql['METHOD']:\n",
    "    if row == 'OTHERS':\n",
    "         method_num.append(1)\n",
    "    if row == 'GUN':\n",
    "         method_num.append(2)\n",
    "    if row == 'KNIFE':\n",
    "         method_num.append(3)\n",
    "            \n",
    "dfsql['METHOD_NUM'] = method_num "
   ]
  },
  {
   "cell_type": "code",
   "execution_count": 11,
   "metadata": {
    "collapsed": false
   },
   "outputs": [],
   "source": [
    "#update block \n",
    "block_num = []\n",
    "for row in dfsql['BLOCK']:\n",
    "    block = row[:2]\n",
    "    if block.isdigit():\n",
    "        block_num = block\n",
    "    else:\n",
    "        block_num = -9\n",
    "dfsql['BLOCK_NUM'] = block_num\n",
    "    "
   ]
  },
  {
   "cell_type": "code",
   "execution_count": 12,
   "metadata": {
    "collapsed": false
   },
   "outputs": [
    {
     "data": {
      "text/plain": [
       "array([u'1B', u'1D', u'1A', u'1C', u'6E', u'4C', u'5E', u'2B', u'2D',\n",
       "       u'2F', u'2C', u'2E', u'2A', u'3C', u'3E', u'3B', u'3D', u'3F',\n",
       "       u'3G', u'4A', u'4B', u'4D', u'5A', u'5D', u'5C', u'5B', u'6A',\n",
       "       u'6C', u'6B', u'6D', u'7D', u'7C', u'7E', u'7B', u'7F', u'8A',\n",
       "       u'8B', u'8C', u'8D', u'8E'], dtype=object)"
      ]
     },
     "execution_count": 12,
     "metadata": {},
     "output_type": "execute_result"
    }
   ],
   "source": [
    "dfsql['ANC'].unique()"
   ]
  },
  {
   "cell_type": "code",
   "execution_count": null,
   "metadata": {
    "collapsed": true
   },
   "outputs": [],
   "source": []
  }
 ],
 "metadata": {
  "anaconda-cloud": {},
  "kernelspec": {
   "display_name": "Python [Root]",
   "language": "python",
   "name": "Python [Root]"
  },
  "language_info": {
   "codemirror_mode": {
    "name": "ipython",
    "version": 2
   },
   "file_extension": ".py",
   "mimetype": "text/x-python",
   "name": "python",
   "nbconvert_exporter": "python",
   "pygments_lexer": "ipython2",
   "version": "2.7.12"
  }
 },
 "nbformat": 4,
 "nbformat_minor": 0
}
