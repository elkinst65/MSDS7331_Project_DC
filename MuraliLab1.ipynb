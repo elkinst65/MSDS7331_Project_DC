{
 "cells": [
  {
   "cell_type": "code",
   "execution_count": 32,
   "metadata": {
    "collapsed": false
   },
   "outputs": [],
   "source": [
    "# Import Data and format data \n",
    "import pandas as pd\n",
    "import sqlite3 as sl\n",
    "df = pd.read_csv('/Users/muraliparthasarathy/Documents/DataMining/DC_Crime_2015_LL.csv');\n",
    "con = sl.connect('/Users/muraliparthasarathy/Documents/DataMining/dcCrimeData.db');\n",
    "df.to_sql('dcCrimeData',con,schema='None',if_exists='append',index='true',index_label='None');\n",
    "dfsql = pd.read_sql('select * from dcCrimeData',con);\n",
    "dfsql['REPORT_DAT_FORMAT'] =  pd.to_datetime(dfsql['REPORT_DAT'])\n",
    "#dfsql.info()"
   ]
  },
  {
   "cell_type": "code",
   "execution_count": 147,
   "metadata": {
    "collapsed": true
   },
   "outputs": [],
   "source": [
    "# update Reporting Date for day, month, year \n",
    "grades = []\n",
    "for row in dfsql['REPORT_DAT']:\n",
    "    grades.append(row[:2])\n",
    "dfsql['REPORT_Month'] = grades\n",
    "\n",
    "grades = []\n",
    "for row in dfsql['REPORT_DAT']:\n",
    "    grades.append(row[3:5])\n",
    "dfsql['REPORT_Day'] = grades\n",
    "\n",
    "grades = []\n",
    "for row in dfsql['REPORT_DAT']:\n",
    "    grades.append(row[6:11])\n",
    "dfsql['REPORT_Year'] = grades\n",
    "\n",
    "grades = []\n",
    "for row in dfsql['REPORT_DAT']:\n",
    "    grades.append(row[11:13])\n",
    "dfsql['REPORT_Hour'] = grades\n",
    "\n",
    "grades = []\n",
    "for row in dfsql['REPORT_DAT']:\n",
    "    grades.append(row[14:16])\n",
    "dfsql['REPORT_MINUTES'] = grades\n"
   ]
  },
  {
   "cell_type": "code",
   "execution_count": 33,
   "metadata": {
    "collapsed": false
   },
   "outputs": [],
   "source": [
    "#dfsql.info()"
   ]
  },
  {
   "cell_type": "code",
   "execution_count": 4,
   "metadata": {
    "collapsed": false
   },
   "outputs": [
    {
     "data": {
      "text/plain": [
       "array([u'DAY', u'EVENING', u'MIDNIGHT'], dtype=object)"
      ]
     },
     "execution_count": 4,
     "metadata": {},
     "output_type": "execute_result"
    }
   ],
   "source": [
    "dfsql['SHIFT'].unique()"
   ]
  },
  {
   "cell_type": "code",
   "execution_count": 89,
   "metadata": {
    "collapsed": false
   },
   "outputs": [],
   "source": [
    " #Update Shift\n",
    "shift_num = []\n",
    "for row in dfsql['SHIFT']:\n",
    "    if row == 'DAY':\n",
    "         shift_num.append(1)\n",
    "    if row == 'EVENING':\n",
    "         shift_num.append(2)\n",
    "    if row == 'MIDNIGHT':\n",
    "         shift_num.append(3)\n",
    "            \n",
    "dfsql['SHIFT_NUM'] = shift_num    \n",
    "\n"
   ]
  },
  {
   "cell_type": "code",
   "execution_count": 7,
   "metadata": {
    "collapsed": false,
    "scrolled": true
   },
   "outputs": [
    {
     "data": {
      "text/plain": [
       "array([u'OTHERS', u'GUN', u'KNIFE'], dtype=object)"
      ]
     },
     "execution_count": 7,
     "metadata": {},
     "output_type": "execute_result"
    }
   ],
   "source": [
    "dfsql['METHOD'].unique()"
   ]
  },
  {
   "cell_type": "code",
   "execution_count": null,
   "metadata": {
    "collapsed": false
   },
   "outputs": [],
   "source": [
    "# Update Method\n",
    "method_num = []\n",
    "for row in dfsql['METHOD']:\n",
    "    if row == 'OTHERS':\n",
    "         method_num.append(1)\n",
    "    if row == 'GUN':\n",
    "         method_num.append(2)\n",
    "    if row == 'KNIFE':\n",
    "         method_num.append(3)\n",
    "            \n",
    "dfsql['METHOD_NUM'] = method_num "
   ]
  },
  {
   "cell_type": "code",
   "execution_count": 127,
   "metadata": {
    "collapsed": false
   },
   "outputs": [
    {
     "data": {
      "text/plain": [
       "0         38\n",
       "1         38\n",
       "2         38\n",
       "3         38\n",
       "4         38\n",
       "5         38\n",
       "6         38\n",
       "7         38\n",
       "8         38\n",
       "9         38\n",
       "10        38\n",
       "11        38\n",
       "12        38\n",
       "13        38\n",
       "14        38\n",
       "15        38\n",
       "16        38\n",
       "17        38\n",
       "18        38\n",
       "19        38\n",
       "20        38\n",
       "21        38\n",
       "22        38\n",
       "23        38\n",
       "24        38\n",
       "25        38\n",
       "26        38\n",
       "27        38\n",
       "28        38\n",
       "29        38\n",
       "          ..\n",
       "255421    38\n",
       "255422    38\n",
       "255423    38\n",
       "255424    38\n",
       "255425    38\n",
       "255426    38\n",
       "255427    38\n",
       "255428    38\n",
       "255429    38\n",
       "255430    38\n",
       "255431    38\n",
       "255432    38\n",
       "255433    38\n",
       "255434    38\n",
       "255435    38\n",
       "255436    38\n",
       "255437    38\n",
       "255438    38\n",
       "255439    38\n",
       "255440    38\n",
       "255441    38\n",
       "255442    38\n",
       "255443    38\n",
       "255444    38\n",
       "255445    38\n",
       "255446    38\n",
       "255447    38\n",
       "255448    38\n",
       "255449    38\n",
       "255450    38\n",
       "Name: BLOCK_NUM, dtype: object"
      ]
     },
     "execution_count": 127,
     "metadata": {},
     "output_type": "execute_result"
    }
   ],
   "source": [
    "#update block \n",
    "block_num = []\n",
    "for row in dfsql['BLOCK']:\n",
    "    block = row[:2]\n",
    "    if block.isdigit():\n",
    "        block_num = block\n",
    "    else:\n",
    "        block_num = -9\n",
    "dfsql['BLOCK_NUM'] = block_num\n",
    "\n",
    "dfsql['BLOCK_NUM']\n",
    "    "
   ]
  },
  {
   "cell_type": "code",
   "execution_count": 12,
   "metadata": {
    "collapsed": false
   },
   "outputs": [
    {
     "data": {
      "text/plain": [
       "array([u'1B', u'1D', u'1A', u'1C', u'6E', u'4C', u'5E', u'2B', u'2D',\n",
       "       u'2F', u'2C', u'2E', u'2A', u'3C', u'3E', u'3B', u'3D', u'3F',\n",
       "       u'3G', u'4A', u'4B', u'4D', u'5A', u'5D', u'5C', u'5B', u'6A',\n",
       "       u'6C', u'6B', u'6D', u'7D', u'7C', u'7E', u'7B', u'7F', u'8A',\n",
       "       u'8B', u'8C', u'8D', u'8E'], dtype=object)"
      ]
     },
     "execution_count": 12,
     "metadata": {},
     "output_type": "execute_result"
    }
   ],
   "source": [
    "dfsql['ANC'].unique()"
   ]
  },
  {
   "cell_type": "code",
   "execution_count": 129,
   "metadata": {
    "collapsed": false
   },
   "outputs": [
    {
     "data": {
      "text/plain": [
       "0         2\n",
       "1         4\n",
       "2         1\n",
       "3         2\n",
       "4         1\n",
       "5         2\n",
       "6         2\n",
       "7         4\n",
       "8         2\n",
       "9         2\n",
       "10        1\n",
       "11        2\n",
       "12        4\n",
       "13        3\n",
       "14        1\n",
       "15        3\n",
       "16        2\n",
       "17        3\n",
       "18        1\n",
       "19        2\n",
       "20        1\n",
       "21        1\n",
       "22        1\n",
       "23        2\n",
       "24        1\n",
       "25        3\n",
       "26        3\n",
       "27        1\n",
       "28        1\n",
       "29        1\n",
       "         ..\n",
       "255421    4\n",
       "255422    1\n",
       "255423    4\n",
       "255424    5\n",
       "255425    3\n",
       "255426    1\n",
       "255427    2\n",
       "255428    1\n",
       "255429    3\n",
       "255430    2\n",
       "255431    3\n",
       "255432    2\n",
       "255433    1\n",
       "255434    5\n",
       "255435    1\n",
       "255436    3\n",
       "255437    5\n",
       "255438    2\n",
       "255439    3\n",
       "255440    5\n",
       "255441    1\n",
       "255442    1\n",
       "255443    4\n",
       "255444    2\n",
       "255445    4\n",
       "255446    2\n",
       "255447    2\n",
       "255448    5\n",
       "255449    3\n",
       "255450    4\n",
       "Name: ANC_NUM, dtype: int64"
      ]
     },
     "execution_count": 129,
     "metadata": {},
     "output_type": "execute_result"
    }
   ],
   "source": [
    "anc_num = []\n",
    "for row in dfsql['ANC']:\n",
    "    sncblocknum = 0\n",
    "    sncblock = row[1:2]\n",
    "    if sncblock == 'A' :\n",
    "        sncblocknum = 1\n",
    "    if sncblock == 'B' :\n",
    "        sncblocknum = 2\n",
    "    if sncblock == 'C' :\n",
    "        sncblocknum = 3\n",
    "    if sncblock == 'D' :\n",
    "        sncblocknum = 4\n",
    "    if sncblock == 'E' :\n",
    "        sncblocknum = 5\n",
    "    if sncblock == 'F' :\n",
    "        sncblocknum = 6\n",
    "    if sncblock == 'G' :\n",
    "        sncblocknum = 7\n",
    "    anc_num.append(sncblocknum)\n",
    "dfsql['ANC_NUM'] = anc_num\n",
    "\n",
    "dfsql['ANC_NUM']"
   ]
  },
  {
   "cell_type": "code",
   "execution_count": 7,
   "metadata": {
    "collapsed": false
   },
   "outputs": [
    {
     "data": {
      "text/plain": [
       "array([u'Cluster 3', u'Cluster 2', u'Cluster 1', u'Cluster 6',\n",
       "       u'Cluster 18', None, u'Cluster 21', u'Cluster 8', u'Cluster 4',\n",
       "       u'Cluster 5', u'Cluster 7', u'Cluster 9', u'Cluster 15',\n",
       "       u'Cluster 14', u'Cluster 11', u'Cluster 13', u'Cluster 12',\n",
       "       u'Cluster 10', u'Cluster 17', u'Cluster 16', u'Cluster 19',\n",
       "       u'Cluster 23', u'Cluster 22', u'Cluster 24', u'Cluster 20',\n",
       "       u'Cluster 25', u'Cluster 26', u'Cluster 27', u'Cluster 33',\n",
       "       u'Cluster 30', u'Cluster 31', u'Cluster 34', u'Cluster 32',\n",
       "       u'Cluster 35', u'Cluster 29', u'Cluster 36', u'Cluster 39',\n",
       "       u'Cluster 37', u'Cluster 38', u'Cluster 28'], dtype=object)"
      ]
     },
     "execution_count": 7,
     "metadata": {},
     "output_type": "execute_result"
    }
   ],
   "source": [
    "dfsql['NEIGHBORHOOD_CLUSTER'].unique()\n"
   ]
  },
  {
   "cell_type": "code",
   "execution_count": 19,
   "metadata": {
    "collapsed": false
   },
   "outputs": [
    {
     "data": {
      "text/plain": [
       "array([u'Cluster 3', u'Cluster 2', u'Cluster 1', u'Cluster 6',\n",
       "       u'Cluster 18', None, u'Cluster 21', u'Cluster 8', u'Cluster 4',\n",
       "       u'Cluster 5', u'Cluster 7', u'Cluster 9', u'Cluster 15',\n",
       "       u'Cluster 14', u'Cluster 11', u'Cluster 13', u'Cluster 12',\n",
       "       u'Cluster 10', u'Cluster 17', u'Cluster 16', u'Cluster 19',\n",
       "       u'Cluster 23', u'Cluster 22', u'Cluster 24', u'Cluster 20',\n",
       "       u'Cluster 25', u'Cluster 26', u'Cluster 27', u'Cluster 33',\n",
       "       u'Cluster 30', u'Cluster 31', u'Cluster 34', u'Cluster 32',\n",
       "       u'Cluster 35', u'Cluster 29', u'Cluster 36', u'Cluster 39',\n",
       "       u'Cluster 37', u'Cluster 38', u'Cluster 28'], dtype=object)"
      ]
     },
     "execution_count": 19,
     "metadata": {},
     "output_type": "execute_result"
    }
   ],
   "source": [
    "dfsql['NEIGHBORHOOD_CLUSTER'].unique()"
   ]
  },
  {
   "cell_type": "code",
   "execution_count": null,
   "metadata": {
    "collapsed": false
   },
   "outputs": [],
   "source": [
    "#dfsql['NEIGHBORHOOD_CLUSTER'].isnull()"
   ]
  },
  {
   "cell_type": "code",
   "execution_count": 130,
   "metadata": {
    "collapsed": true
   },
   "outputs": [],
   "source": [
    "dfsql['NEIGHBORHOOD_CLUSTER']=dfsql['NEIGHBORHOOD_CLUSTER'].fillna('Cluster 0')"
   ]
  },
  {
   "cell_type": "code",
   "execution_count": 131,
   "metadata": {
    "collapsed": false
   },
   "outputs": [],
   "source": [
    "neighborhood_clus = []\n",
    "for row in dfsql['NEIGHBORHOOD_CLUSTER']:\n",
    "    str = row.replace('Cluster',' ')\n",
    "    neighborhood_clus.append(str)\n",
    "dfsql['NEIGHBORHOOD_CLUSTER_NUM'] = neighborhood_clus"
   ]
  },
  {
   "cell_type": "code",
   "execution_count": 132,
   "metadata": {
    "collapsed": true
   },
   "outputs": [],
   "source": [
    "dfsql['VOTING_PRECINCT'] = dfsql['VOTING_PRECINCT'].fillna('Precinct 0')"
   ]
  },
  {
   "cell_type": "code",
   "execution_count": 133,
   "metadata": {
    "collapsed": true
   },
   "outputs": [],
   "source": [
    "precint_clus = []\n",
    "for row in dfsql['VOTING_PRECINCT']:\n",
    "    str = row.replace('Precinct',' ')\n",
    "    precint_clus.append(str)\n",
    "dfsql['VOTING_PRECINCT_NUM'] = precint_clus"
   ]
  },
  {
   "cell_type": "code",
   "execution_count": 30,
   "metadata": {
    "collapsed": true
   },
   "outputs": [],
   "source": [
    "dfsql['START_DATE_FORMAT'] =  pd.to_datetime(dfsql['START_DATE'])"
   ]
  },
  {
   "cell_type": "code",
   "execution_count": 31,
   "metadata": {
    "collapsed": true
   },
   "outputs": [],
   "source": [
    "dfsql['END_DATE_FORMAT'] =  pd.to_datetime(dfsql['END_DATE'])"
   ]
  },
  {
   "cell_type": "code",
   "execution_count": 36,
   "metadata": {
    "collapsed": false
   },
   "outputs": [],
   "source": [
    "#df['CRIMETIME'] = df['END_DATE_FORMAT'] - df['START_DATE_FORMAT'] "
   ]
  },
  {
   "cell_type": "code",
   "execution_count": 39,
   "metadata": {
    "collapsed": false
   },
   "outputs": [],
   "source": [
    "#dfsql['END_DATE_FORMAT'].describe()"
   ]
  },
  {
   "cell_type": "code",
   "execution_count": 41,
   "metadata": {
    "collapsed": false
   },
   "outputs": [],
   "source": [
    "#dfsql['CRIMETIME'] = dfsql['END_DATE_FORMAT'] - dfsql['START_DATE_FORMAT'] "
   ]
  },
  {
   "cell_type": "code",
   "execution_count": 91,
   "metadata": {
    "collapsed": false
   },
   "outputs": [],
   "source": [
    "#dfsql.info()"
   ]
  },
  {
   "cell_type": "code",
   "execution_count": 45,
   "metadata": {
    "collapsed": true
   },
   "outputs": [],
   "source": [
    "dfsql['END_DATE_FORMAT'] =  pd.to_datetime(dfsql['END_DATE'])"
   ]
  },
  {
   "cell_type": "code",
   "execution_count": 92,
   "metadata": {
    "collapsed": false
   },
   "outputs": [],
   "source": [
    "#dfsql.info()"
   ]
  },
  {
   "cell_type": "code",
   "execution_count": 49,
   "metadata": {
    "collapsed": true
   },
   "outputs": [],
   "source": [
    "dfsql['START_DATE_FORMAT'] =  pd.to_datetime(dfsql['START_DATE'])"
   ]
  },
  {
   "cell_type": "code",
   "execution_count": 93,
   "metadata": {
    "collapsed": false
   },
   "outputs": [],
   "source": [
    "#dfsql.info()"
   ]
  },
  {
   "cell_type": "code",
   "execution_count": 67,
   "metadata": {
    "collapsed": true
   },
   "outputs": [],
   "source": [
    "dfsql['CRIMETIME_REP'] = dfsql['END_DATE_FORMAT'] - dfsql['START_DATE_FORMAT'] "
   ]
  },
  {
   "cell_type": "code",
   "execution_count": 94,
   "metadata": {
    "collapsed": false
   },
   "outputs": [],
   "source": [
    "#dfsql.info()"
   ]
  },
  {
   "cell_type": "code",
   "execution_count": 95,
   "metadata": {
    "collapsed": false
   },
   "outputs": [],
   "source": [
    "#dfsql['CRIMETIME']"
   ]
  },
  {
   "cell_type": "code",
   "execution_count": 54,
   "metadata": {
    "collapsed": true
   },
   "outputs": [],
   "source": [
    "dfsql['INVESTIGATION_TIME'] = dfsql['END_DATE_FORMAT'] - dfsql['REPORT_DAT_FORMAT'] "
   ]
  },
  {
   "cell_type": "code",
   "execution_count": 96,
   "metadata": {
    "collapsed": false
   },
   "outputs": [],
   "source": [
    "#dfsql['INVESTIGATION_TIME']"
   ]
  },
  {
   "cell_type": "code",
   "execution_count": 82,
   "metadata": {
    "collapsed": true
   },
   "outputs": [],
   "source": [
    "dfsql['INVESTIGATION_TIME'] = dfsql['REPORT_DAT_FORMAT'] - dfsql['END_DATE_FORMAT'] "
   ]
  },
  {
   "cell_type": "code",
   "execution_count": 97,
   "metadata": {
    "collapsed": false
   },
   "outputs": [],
   "source": [
    "#dfsql['INVESTIGATION_TIME']"
   ]
  },
  {
   "cell_type": "code",
   "execution_count": 98,
   "metadata": {
    "collapsed": false
   },
   "outputs": [],
   "source": [
    "#dfsql.info()"
   ]
  },
  {
   "cell_type": "code",
   "execution_count": 62,
   "metadata": {
    "collapsed": true
   },
   "outputs": [],
   "source": [
    "dfsql['INVESTIGATION_TIME'] = dfsql['INVESTIGATION_TIME'].astype('timedelta64[D]')"
   ]
  },
  {
   "cell_type": "code",
   "execution_count": 99,
   "metadata": {
    "collapsed": false
   },
   "outputs": [],
   "source": [
    "#dfsql['INVESTIGATION_TIME']"
   ]
  },
  {
   "cell_type": "code",
   "execution_count": 100,
   "metadata": {
    "collapsed": false
   },
   "outputs": [],
   "source": [
    "#dfsql['CRIMETIME']"
   ]
  },
  {
   "cell_type": "code",
   "execution_count": 101,
   "metadata": {
    "collapsed": false
   },
   "outputs": [],
   "source": [
    "#dfsql.info()"
   ]
  },
  {
   "cell_type": "code",
   "execution_count": 102,
   "metadata": {
    "collapsed": false
   },
   "outputs": [],
   "source": [
    "#dfsql['CRIMETIME_REP']"
   ]
  },
  {
   "cell_type": "code",
   "execution_count": 103,
   "metadata": {
    "collapsed": false
   },
   "outputs": [],
   "source": [
    "#dfsql['CRIMETIME']"
   ]
  },
  {
   "cell_type": "code",
   "execution_count": 77,
   "metadata": {
    "collapsed": true
   },
   "outputs": [],
   "source": [
    "dfsql['CRIMETIME'] = dfsql['CRIMETIME_REP'].astype('timedelta64[s]')"
   ]
  },
  {
   "cell_type": "code",
   "execution_count": 104,
   "metadata": {
    "collapsed": false
   },
   "outputs": [],
   "source": [
    "#dfsql['CRIMETIME']"
   ]
  },
  {
   "cell_type": "code",
   "execution_count": 105,
   "metadata": {
    "collapsed": false
   },
   "outputs": [],
   "source": [
    "#dfsql.info()"
   ]
  },
  {
   "cell_type": "code",
   "execution_count": 106,
   "metadata": {
    "collapsed": false
   },
   "outputs": [],
   "source": [
    "#dfsql['INVESTIGATION_TIME']"
   ]
  },
  {
   "cell_type": "code",
   "execution_count": 107,
   "metadata": {
    "collapsed": false
   },
   "outputs": [],
   "source": [
    "#dfsql['INVESTIGATION_TIME']"
   ]
  },
  {
   "cell_type": "code",
   "execution_count": 86,
   "metadata": {
    "collapsed": true
   },
   "outputs": [],
   "source": [
    "dfsql['INVESTIGATION_TIME_MIN'] = dfsql['INVESTIGATION_TIME'].astype('timedelta64[s]')"
   ]
  },
  {
   "cell_type": "code",
   "execution_count": 108,
   "metadata": {
    "collapsed": false
   },
   "outputs": [],
   "source": [
    "#dfsql['INVESTIGATION_TIME_MIN']"
   ]
  },
  {
   "cell_type": "code",
   "execution_count": 109,
   "metadata": {
    "collapsed": false
   },
   "outputs": [
    {
     "name": "stdout",
     "output_type": "stream",
     "text": [
      "<class 'pandas.core.frame.DataFrame'>\n",
      "RangeIndex: 255451 entries, 0 to 255450\n",
      "Data columns (total 29 columns):\n",
      "true                      255451 non-null int64\n",
      "REPORT_DAT                255451 non-null object\n",
      "SHIFT                     255451 non-null object\n",
      "OFFENSE                   255451 non-null object\n",
      "METHOD                    255451 non-null object\n",
      "BLOCK                     255451 non-null object\n",
      "DISTRICT                  255122 non-null float64\n",
      "PSA                       255115 non-null float64\n",
      "WARD                      255451 non-null int64\n",
      "ANC                       255451 non-null object\n",
      "NEIGHBORHOOD_CLUSTER      252532 non-null object\n",
      "BLOCK_GROUP               254653 non-null object\n",
      "CENSUS_TRACT              254653 non-null float64\n",
      "VOTING_PRECINCT           255360 non-null object\n",
      "CCN                       255451 non-null int64\n",
      "XBLOCK                    255451 non-null float64\n",
      "YBLOCK                    255451 non-null float64\n",
      "START_DATE                255451 non-null object\n",
      "END_DATE                  253687 non-null object\n",
      "Lat                       255451 non-null float64\n",
      "Long                      255451 non-null float64\n",
      "REPORT_DAT_FORMAT         255451 non-null datetime64[ns]\n",
      "END_DATE_FORMAT           253687 non-null datetime64[ns]\n",
      "START_DATE_FORMAT         255451 non-null datetime64[ns]\n",
      "CRIMETIME                 253687 non-null float64\n",
      "INVESTIGATION_TIME        253687 non-null timedelta64[ns]\n",
      "CRIMETIME_REP             253687 non-null timedelta64[ns]\n",
      "INVESTIGATION_TIME_MIN    253687 non-null float64\n",
      "SHIFT_NUM                 255451 non-null int64\n",
      "dtypes: datetime64[ns](3), float64(9), int64(4), object(11), timedelta64[ns](2)\n",
      "memory usage: 56.5+ MB\n"
     ]
    }
   ],
   "source": [
    "dfsql.info()"
   ]
  },
  {
   "cell_type": "code",
   "execution_count": 110,
   "metadata": {
    "collapsed": false
   },
   "outputs": [
    {
     "name": "stderr",
     "output_type": "stream",
     "text": [
      "/Users/muraliparthasarathy/anaconda2/anaconda/lib/python2.7/site-packages/numpy/lib/function_base.py:3834: RuntimeWarning: Invalid value encountered in percentile\n",
      "  RuntimeWarning)\n"
     ]
    },
    {
     "data": {
      "text/html": [
       "<div>\n",
       "<table border=\"1\" class=\"dataframe\">\n",
       "  <thead>\n",
       "    <tr style=\"text-align: right;\">\n",
       "      <th></th>\n",
       "      <th>true</th>\n",
       "      <th>DISTRICT</th>\n",
       "      <th>PSA</th>\n",
       "      <th>WARD</th>\n",
       "      <th>CENSUS_TRACT</th>\n",
       "      <th>CCN</th>\n",
       "      <th>XBLOCK</th>\n",
       "      <th>YBLOCK</th>\n",
       "      <th>Lat</th>\n",
       "      <th>Long</th>\n",
       "      <th>CRIMETIME</th>\n",
       "      <th>INVESTIGATION_TIME</th>\n",
       "      <th>CRIMETIME_REP</th>\n",
       "      <th>INVESTIGATION_TIME_MIN</th>\n",
       "      <th>SHIFT_NUM</th>\n",
       "    </tr>\n",
       "  </thead>\n",
       "  <tbody>\n",
       "    <tr>\n",
       "      <th>count</th>\n",
       "      <td>255451.000000</td>\n",
       "      <td>255122.000000</td>\n",
       "      <td>255115.000000</td>\n",
       "      <td>255451.000000</td>\n",
       "      <td>254653.000000</td>\n",
       "      <td>2.554510e+05</td>\n",
       "      <td>255451.000000</td>\n",
       "      <td>255451.000000</td>\n",
       "      <td>255451.000000</td>\n",
       "      <td>255451.000000</td>\n",
       "      <td>2.536870e+05</td>\n",
       "      <td>253687</td>\n",
       "      <td>253687</td>\n",
       "      <td>2.536870e+05</td>\n",
       "      <td>255451.000000</td>\n",
       "    </tr>\n",
       "    <tr>\n",
       "      <th>mean</th>\n",
       "      <td>18246.000000</td>\n",
       "      <td>3.697196</td>\n",
       "      <td>374.298395</td>\n",
       "      <td>4.421259</td>\n",
       "      <td>6211.275791</td>\n",
       "      <td>1.511937e+07</td>\n",
       "      <td>399301.346694</td>\n",
       "      <td>137698.576414</td>\n",
       "      <td>38.907140</td>\n",
       "      <td>-77.008062</td>\n",
       "      <td>1.833292e+05</td>\n",
       "      <td>1 days 18:24:22.580502</td>\n",
       "      <td>2 days 02:55:29.244226</td>\n",
       "      <td>1.526626e+05</td>\n",
       "      <td>1.817965</td>\n",
       "    </tr>\n",
       "    <tr>\n",
       "      <th>std</th>\n",
       "      <td>10534.642303</td>\n",
       "      <td>1.947415</td>\n",
       "      <td>194.521713</td>\n",
       "      <td>2.339243</td>\n",
       "      <td>3146.180472</td>\n",
       "      <td>1.087812e+05</td>\n",
       "      <td>3113.078782</td>\n",
       "      <td>3424.463530</td>\n",
       "      <td>0.030848</td>\n",
       "      <td>0.035893</td>\n",
       "      <td>4.452180e+06</td>\n",
       "      <td>43 days 06:57:43.341299</td>\n",
       "      <td>51 days 12:43:00.142051</td>\n",
       "      <td>3.740263e+06</td>\n",
       "      <td>0.727343</td>\n",
       "    </tr>\n",
       "    <tr>\n",
       "      <th>min</th>\n",
       "      <td>0.000000</td>\n",
       "      <td>1.000000</td>\n",
       "      <td>101.000000</td>\n",
       "      <td>1.000000</td>\n",
       "      <td>100.000000</td>\n",
       "      <td>6.155556e+06</td>\n",
       "      <td>390147.000000</td>\n",
       "      <td>127300.000000</td>\n",
       "      <td>38.813470</td>\n",
       "      <td>-77.113640</td>\n",
       "      <td>-7.740000e+04</td>\n",
       "      <td>-93 days +01:05:00</td>\n",
       "      <td>-1 days +02:30:00</td>\n",
       "      <td>-8.031300e+06</td>\n",
       "      <td>1.000000</td>\n",
       "    </tr>\n",
       "    <tr>\n",
       "      <th>25%</th>\n",
       "      <td>9123.000000</td>\n",
       "      <td>NaN</td>\n",
       "      <td>NaN</td>\n",
       "      <td>2.000000</td>\n",
       "      <td>NaN</td>\n",
       "      <td>1.505885e+07</td>\n",
       "      <td>397228.000000</td>\n",
       "      <td>136027.000000</td>\n",
       "      <td>38.892080</td>\n",
       "      <td>-77.031960</td>\n",
       "      <td>NaN</td>\n",
       "      <td>0 days 00:16:00</td>\n",
       "      <td>0 days 00:06:00</td>\n",
       "      <td>NaN</td>\n",
       "      <td>1.000000</td>\n",
       "    </tr>\n",
       "    <tr>\n",
       "      <th>50%</th>\n",
       "      <td>18246.000000</td>\n",
       "      <td>NaN</td>\n",
       "      <td>NaN</td>\n",
       "      <td>5.000000</td>\n",
       "      <td>NaN</td>\n",
       "      <td>1.511063e+07</td>\n",
       "      <td>398878.000000</td>\n",
       "      <td>137622.530000</td>\n",
       "      <td>38.906460</td>\n",
       "      <td>-77.012930</td>\n",
       "      <td>NaN</td>\n",
       "      <td>0 days 01:06:00</td>\n",
       "      <td>0 days 00:51:00</td>\n",
       "      <td>NaN</td>\n",
       "      <td>2.000000</td>\n",
       "    </tr>\n",
       "    <tr>\n",
       "      <th>75%</th>\n",
       "      <td>27369.000000</td>\n",
       "      <td>NaN</td>\n",
       "      <td>NaN</td>\n",
       "      <td>6.000000</td>\n",
       "      <td>NaN</td>\n",
       "      <td>1.516497e+07</td>\n",
       "      <td>401257.000000</td>\n",
       "      <td>139839.000000</td>\n",
       "      <td>38.926420</td>\n",
       "      <td>-76.985510</td>\n",
       "      <td>NaN</td>\n",
       "      <td>0 days 03:25:00</td>\n",
       "      <td>0 days 07:00:00</td>\n",
       "      <td>NaN</td>\n",
       "      <td>2.000000</td>\n",
       "    </tr>\n",
       "    <tr>\n",
       "      <th>max</th>\n",
       "      <td>36492.000000</td>\n",
       "      <td>7.000000</td>\n",
       "      <td>708.000000</td>\n",
       "      <td>8.000000</td>\n",
       "      <td>11100.000000</td>\n",
       "      <td>1.619697e+07</td>\n",
       "      <td>407806.000000</td>\n",
       "      <td>147292.000000</td>\n",
       "      <td>38.993560</td>\n",
       "      <td>-76.910020</td>\n",
       "      <td>4.733352e+08</td>\n",
       "      <td>6385 days 20:01:00</td>\n",
       "      <td>5478 days 10:00:00</td>\n",
       "      <td>5.517361e+08</td>\n",
       "      <td>3.000000</td>\n",
       "    </tr>\n",
       "  </tbody>\n",
       "</table>\n",
       "</div>"
      ],
      "text/plain": [
       "                true       DISTRICT            PSA           WARD  \\\n",
       "count  255451.000000  255122.000000  255115.000000  255451.000000   \n",
       "mean    18246.000000       3.697196     374.298395       4.421259   \n",
       "std     10534.642303       1.947415     194.521713       2.339243   \n",
       "min         0.000000       1.000000     101.000000       1.000000   \n",
       "25%      9123.000000            NaN            NaN       2.000000   \n",
       "50%     18246.000000            NaN            NaN       5.000000   \n",
       "75%     27369.000000            NaN            NaN       6.000000   \n",
       "max     36492.000000       7.000000     708.000000       8.000000   \n",
       "\n",
       "        CENSUS_TRACT           CCN         XBLOCK         YBLOCK  \\\n",
       "count  254653.000000  2.554510e+05  255451.000000  255451.000000   \n",
       "mean     6211.275791  1.511937e+07  399301.346694  137698.576414   \n",
       "std      3146.180472  1.087812e+05    3113.078782    3424.463530   \n",
       "min       100.000000  6.155556e+06  390147.000000  127300.000000   \n",
       "25%              NaN  1.505885e+07  397228.000000  136027.000000   \n",
       "50%              NaN  1.511063e+07  398878.000000  137622.530000   \n",
       "75%              NaN  1.516497e+07  401257.000000  139839.000000   \n",
       "max     11100.000000  1.619697e+07  407806.000000  147292.000000   \n",
       "\n",
       "                 Lat           Long     CRIMETIME       INVESTIGATION_TIME  \\\n",
       "count  255451.000000  255451.000000  2.536870e+05                   253687   \n",
       "mean       38.907140     -77.008062  1.833292e+05   1 days 18:24:22.580502   \n",
       "std         0.030848       0.035893  4.452180e+06  43 days 06:57:43.341299   \n",
       "min        38.813470     -77.113640 -7.740000e+04       -93 days +01:05:00   \n",
       "25%        38.892080     -77.031960           NaN          0 days 00:16:00   \n",
       "50%        38.906460     -77.012930           NaN          0 days 01:06:00   \n",
       "75%        38.926420     -76.985510           NaN          0 days 03:25:00   \n",
       "max        38.993560     -76.910020  4.733352e+08       6385 days 20:01:00   \n",
       "\n",
       "                 CRIMETIME_REP  INVESTIGATION_TIME_MIN      SHIFT_NUM  \n",
       "count                   253687            2.536870e+05  255451.000000  \n",
       "mean    2 days 02:55:29.244226            1.526626e+05       1.817965  \n",
       "std    51 days 12:43:00.142051            3.740263e+06       0.727343  \n",
       "min          -1 days +02:30:00           -8.031300e+06       1.000000  \n",
       "25%            0 days 00:06:00                     NaN       1.000000  \n",
       "50%            0 days 00:51:00                     NaN       2.000000  \n",
       "75%            0 days 07:00:00                     NaN       2.000000  \n",
       "max         5478 days 10:00:00            5.517361e+08       3.000000  "
      ]
     },
     "execution_count": 110,
     "metadata": {},
     "output_type": "execute_result"
    }
   ],
   "source": [
    "dfsql.describe()"
   ]
  },
  {
   "cell_type": "code",
   "execution_count": 111,
   "metadata": {
    "collapsed": true
   },
   "outputs": [],
   "source": [
    "dfsql['DISTRICT']=dfsql['DISTRICT'].fillna(0)"
   ]
  },
  {
   "cell_type": "code",
   "execution_count": 112,
   "metadata": {
    "collapsed": true
   },
   "outputs": [],
   "source": [
    "dfsql['PSA']=dfsql['PSA'].fillna(194)"
   ]
  },
  {
   "cell_type": "code",
   "execution_count": 113,
   "metadata": {
    "collapsed": true
   },
   "outputs": [],
   "source": [
    "dfsql['WARD']=dfsql['WARD'].fillna(1)"
   ]
  },
  {
   "cell_type": "code",
   "execution_count": 114,
   "metadata": {
    "collapsed": true
   },
   "outputs": [],
   "source": [
    "dfsql['CENSUS_TRACT'] = dfsql['CENSUS_TRACT'].fillna(6211)"
   ]
  },
  {
   "cell_type": "raw",
   "metadata": {},
   "source": [
    "dfsql['CRIME_TIME'] = dfsql['CRIME_TIME'].fillna(5)"
   ]
  },
  {
   "cell_type": "code",
   "execution_count": 115,
   "metadata": {
    "collapsed": true
   },
   "outputs": [],
   "source": [
    "dfsql['INVESTIGATION_TIME'] = dfsql['INVESTIGATION_TIME'].fillna(0)"
   ]
  },
  {
   "cell_type": "code",
   "execution_count": 116,
   "metadata": {
    "collapsed": false
   },
   "outputs": [
    {
     "data": {
      "text/html": [
       "<div>\n",
       "<table border=\"1\" class=\"dataframe\">\n",
       "  <thead>\n",
       "    <tr style=\"text-align: right;\">\n",
       "      <th></th>\n",
       "      <th>true</th>\n",
       "      <th>DISTRICT</th>\n",
       "      <th>PSA</th>\n",
       "      <th>WARD</th>\n",
       "      <th>CENSUS_TRACT</th>\n",
       "      <th>CCN</th>\n",
       "      <th>XBLOCK</th>\n",
       "      <th>YBLOCK</th>\n",
       "      <th>Lat</th>\n",
       "      <th>Long</th>\n",
       "      <th>CRIMETIME</th>\n",
       "      <th>INVESTIGATION_TIME</th>\n",
       "      <th>CRIMETIME_REP</th>\n",
       "      <th>INVESTIGATION_TIME_MIN</th>\n",
       "      <th>SHIFT_NUM</th>\n",
       "    </tr>\n",
       "  </thead>\n",
       "  <tbody>\n",
       "    <tr>\n",
       "      <th>count</th>\n",
       "      <td>255451.000000</td>\n",
       "      <td>255451.000000</td>\n",
       "      <td>255451.000000</td>\n",
       "      <td>255451.000000</td>\n",
       "      <td>255451.000000</td>\n",
       "      <td>2.554510e+05</td>\n",
       "      <td>255451.000000</td>\n",
       "      <td>255451.000000</td>\n",
       "      <td>255451.000000</td>\n",
       "      <td>255451.000000</td>\n",
       "      <td>2.536870e+05</td>\n",
       "      <td>255451</td>\n",
       "      <td>253687</td>\n",
       "      <td>2.536870e+05</td>\n",
       "      <td>255451.000000</td>\n",
       "    </tr>\n",
       "    <tr>\n",
       "      <th>mean</th>\n",
       "      <td>18246.000000</td>\n",
       "      <td>3.692434</td>\n",
       "      <td>374.061245</td>\n",
       "      <td>4.421259</td>\n",
       "      <td>6211.274929</td>\n",
       "      <td>1.511937e+07</td>\n",
       "      <td>399301.346694</td>\n",
       "      <td>137698.576414</td>\n",
       "      <td>38.907140</td>\n",
       "      <td>-77.008062</td>\n",
       "      <td>1.833292e+05</td>\n",
       "      <td>1 days 18:06:48.379141</td>\n",
       "      <td>2 days 02:55:29.244226</td>\n",
       "      <td>1.526626e+05</td>\n",
       "      <td>1.817965</td>\n",
       "    </tr>\n",
       "    <tr>\n",
       "      <th>std</th>\n",
       "      <td>10534.642303</td>\n",
       "      <td>1.950673</td>\n",
       "      <td>194.503544</td>\n",
       "      <td>2.339243</td>\n",
       "      <td>3141.262453</td>\n",
       "      <td>1.087812e+05</td>\n",
       "      <td>3113.078782</td>\n",
       "      <td>3424.463530</td>\n",
       "      <td>0.030848</td>\n",
       "      <td>0.035893</td>\n",
       "      <td>4.452180e+06</td>\n",
       "      <td>43 days 03:22:28.288025</td>\n",
       "      <td>51 days 12:43:00.142051</td>\n",
       "      <td>3.740263e+06</td>\n",
       "      <td>0.727343</td>\n",
       "    </tr>\n",
       "    <tr>\n",
       "      <th>min</th>\n",
       "      <td>0.000000</td>\n",
       "      <td>0.000000</td>\n",
       "      <td>101.000000</td>\n",
       "      <td>1.000000</td>\n",
       "      <td>100.000000</td>\n",
       "      <td>6.155556e+06</td>\n",
       "      <td>390147.000000</td>\n",
       "      <td>127300.000000</td>\n",
       "      <td>38.813470</td>\n",
       "      <td>-77.113640</td>\n",
       "      <td>-7.740000e+04</td>\n",
       "      <td>-93 days +01:05:00</td>\n",
       "      <td>-1 days +02:30:00</td>\n",
       "      <td>-8.031300e+06</td>\n",
       "      <td>1.000000</td>\n",
       "    </tr>\n",
       "    <tr>\n",
       "      <th>25%</th>\n",
       "      <td>9123.000000</td>\n",
       "      <td>2.000000</td>\n",
       "      <td>206.000000</td>\n",
       "      <td>2.000000</td>\n",
       "      <td>3500.000000</td>\n",
       "      <td>1.505885e+07</td>\n",
       "      <td>397228.000000</td>\n",
       "      <td>136027.000000</td>\n",
       "      <td>38.892080</td>\n",
       "      <td>-77.031960</td>\n",
       "      <td>NaN</td>\n",
       "      <td>0 days 00:15:00</td>\n",
       "      <td>0 days 00:06:00</td>\n",
       "      <td>NaN</td>\n",
       "      <td>1.000000</td>\n",
       "    </tr>\n",
       "    <tr>\n",
       "      <th>50%</th>\n",
       "      <td>18246.000000</td>\n",
       "      <td>4.000000</td>\n",
       "      <td>401.000000</td>\n",
       "      <td>5.000000</td>\n",
       "      <td>7000.000000</td>\n",
       "      <td>1.511063e+07</td>\n",
       "      <td>398878.000000</td>\n",
       "      <td>137622.530000</td>\n",
       "      <td>38.906460</td>\n",
       "      <td>-77.012930</td>\n",
       "      <td>NaN</td>\n",
       "      <td>0 days 01:05:00</td>\n",
       "      <td>0 days 00:51:00</td>\n",
       "      <td>NaN</td>\n",
       "      <td>2.000000</td>\n",
       "    </tr>\n",
       "    <tr>\n",
       "      <th>75%</th>\n",
       "      <td>27369.000000</td>\n",
       "      <td>5.000000</td>\n",
       "      <td>506.000000</td>\n",
       "      <td>6.000000</td>\n",
       "      <td>8904.000000</td>\n",
       "      <td>1.516497e+07</td>\n",
       "      <td>401257.000000</td>\n",
       "      <td>139839.000000</td>\n",
       "      <td>38.926420</td>\n",
       "      <td>-76.985510</td>\n",
       "      <td>NaN</td>\n",
       "      <td>0 days 03:22:00</td>\n",
       "      <td>0 days 07:00:00</td>\n",
       "      <td>NaN</td>\n",
       "      <td>2.000000</td>\n",
       "    </tr>\n",
       "    <tr>\n",
       "      <th>max</th>\n",
       "      <td>36492.000000</td>\n",
       "      <td>7.000000</td>\n",
       "      <td>708.000000</td>\n",
       "      <td>8.000000</td>\n",
       "      <td>11100.000000</td>\n",
       "      <td>1.619697e+07</td>\n",
       "      <td>407806.000000</td>\n",
       "      <td>147292.000000</td>\n",
       "      <td>38.993560</td>\n",
       "      <td>-76.910020</td>\n",
       "      <td>4.733352e+08</td>\n",
       "      <td>6385 days 20:01:00</td>\n",
       "      <td>5478 days 10:00:00</td>\n",
       "      <td>5.517361e+08</td>\n",
       "      <td>3.000000</td>\n",
       "    </tr>\n",
       "  </tbody>\n",
       "</table>\n",
       "</div>"
      ],
      "text/plain": [
       "                true       DISTRICT            PSA           WARD  \\\n",
       "count  255451.000000  255451.000000  255451.000000  255451.000000   \n",
       "mean    18246.000000       3.692434     374.061245       4.421259   \n",
       "std     10534.642303       1.950673     194.503544       2.339243   \n",
       "min         0.000000       0.000000     101.000000       1.000000   \n",
       "25%      9123.000000       2.000000     206.000000       2.000000   \n",
       "50%     18246.000000       4.000000     401.000000       5.000000   \n",
       "75%     27369.000000       5.000000     506.000000       6.000000   \n",
       "max     36492.000000       7.000000     708.000000       8.000000   \n",
       "\n",
       "        CENSUS_TRACT           CCN         XBLOCK         YBLOCK  \\\n",
       "count  255451.000000  2.554510e+05  255451.000000  255451.000000   \n",
       "mean     6211.274929  1.511937e+07  399301.346694  137698.576414   \n",
       "std      3141.262453  1.087812e+05    3113.078782    3424.463530   \n",
       "min       100.000000  6.155556e+06  390147.000000  127300.000000   \n",
       "25%      3500.000000  1.505885e+07  397228.000000  136027.000000   \n",
       "50%      7000.000000  1.511063e+07  398878.000000  137622.530000   \n",
       "75%      8904.000000  1.516497e+07  401257.000000  139839.000000   \n",
       "max     11100.000000  1.619697e+07  407806.000000  147292.000000   \n",
       "\n",
       "                 Lat           Long     CRIMETIME       INVESTIGATION_TIME  \\\n",
       "count  255451.000000  255451.000000  2.536870e+05                   255451   \n",
       "mean       38.907140     -77.008062  1.833292e+05   1 days 18:06:48.379141   \n",
       "std         0.030848       0.035893  4.452180e+06  43 days 03:22:28.288025   \n",
       "min        38.813470     -77.113640 -7.740000e+04       -93 days +01:05:00   \n",
       "25%        38.892080     -77.031960           NaN          0 days 00:15:00   \n",
       "50%        38.906460     -77.012930           NaN          0 days 01:05:00   \n",
       "75%        38.926420     -76.985510           NaN          0 days 03:22:00   \n",
       "max        38.993560     -76.910020  4.733352e+08       6385 days 20:01:00   \n",
       "\n",
       "                 CRIMETIME_REP  INVESTIGATION_TIME_MIN      SHIFT_NUM  \n",
       "count                   253687            2.536870e+05  255451.000000  \n",
       "mean    2 days 02:55:29.244226            1.526626e+05       1.817965  \n",
       "std    51 days 12:43:00.142051            3.740263e+06       0.727343  \n",
       "min          -1 days +02:30:00           -8.031300e+06       1.000000  \n",
       "25%            0 days 00:06:00                     NaN       1.000000  \n",
       "50%            0 days 00:51:00                     NaN       2.000000  \n",
       "75%            0 days 07:00:00                     NaN       2.000000  \n",
       "max         5478 days 10:00:00            5.517361e+08       3.000000  "
      ]
     },
     "execution_count": 116,
     "metadata": {},
     "output_type": "execute_result"
    }
   ],
   "source": [
    "dfsql.describe()"
   ]
  },
  {
   "cell_type": "code",
   "execution_count": 117,
   "metadata": {
    "collapsed": false
   },
   "outputs": [
    {
     "data": {
      "text/html": [
       "<div>\n",
       "<table border=\"1\" class=\"dataframe\">\n",
       "  <thead>\n",
       "    <tr style=\"text-align: right;\">\n",
       "      <th></th>\n",
       "      <th>true</th>\n",
       "      <th>DISTRICT</th>\n",
       "      <th>PSA</th>\n",
       "      <th>WARD</th>\n",
       "      <th>CENSUS_TRACT</th>\n",
       "      <th>CCN</th>\n",
       "      <th>XBLOCK</th>\n",
       "      <th>YBLOCK</th>\n",
       "      <th>Lat</th>\n",
       "      <th>Long</th>\n",
       "      <th>CRIMETIME</th>\n",
       "      <th>INVESTIGATION_TIME</th>\n",
       "      <th>CRIMETIME_REP</th>\n",
       "      <th>INVESTIGATION_TIME_MIN</th>\n",
       "      <th>SHIFT_NUM</th>\n",
       "    </tr>\n",
       "  </thead>\n",
       "  <tbody>\n",
       "    <tr>\n",
       "      <th>count</th>\n",
       "      <td>255451.000000</td>\n",
       "      <td>255451.000000</td>\n",
       "      <td>255451.000000</td>\n",
       "      <td>255451.000000</td>\n",
       "      <td>255451.000000</td>\n",
       "      <td>2.554510e+05</td>\n",
       "      <td>255451.000000</td>\n",
       "      <td>255451.000000</td>\n",
       "      <td>255451.000000</td>\n",
       "      <td>255451.000000</td>\n",
       "      <td>2.536870e+05</td>\n",
       "      <td>255451</td>\n",
       "      <td>253687</td>\n",
       "      <td>2.536870e+05</td>\n",
       "      <td>255451.000000</td>\n",
       "    </tr>\n",
       "    <tr>\n",
       "      <th>mean</th>\n",
       "      <td>18246.000000</td>\n",
       "      <td>3.692434</td>\n",
       "      <td>374.061245</td>\n",
       "      <td>4.421259</td>\n",
       "      <td>6211.274929</td>\n",
       "      <td>1.511937e+07</td>\n",
       "      <td>399301.346694</td>\n",
       "      <td>137698.576414</td>\n",
       "      <td>38.907140</td>\n",
       "      <td>-77.008062</td>\n",
       "      <td>1.833292e+05</td>\n",
       "      <td>1 days 18:06:48.379141</td>\n",
       "      <td>2 days 02:55:29.244226</td>\n",
       "      <td>1.526626e+05</td>\n",
       "      <td>1.817965</td>\n",
       "    </tr>\n",
       "    <tr>\n",
       "      <th>std</th>\n",
       "      <td>10534.642303</td>\n",
       "      <td>1.950673</td>\n",
       "      <td>194.503544</td>\n",
       "      <td>2.339243</td>\n",
       "      <td>3141.262453</td>\n",
       "      <td>1.087812e+05</td>\n",
       "      <td>3113.078782</td>\n",
       "      <td>3424.463530</td>\n",
       "      <td>0.030848</td>\n",
       "      <td>0.035893</td>\n",
       "      <td>4.452180e+06</td>\n",
       "      <td>43 days 03:22:28.288025</td>\n",
       "      <td>51 days 12:43:00.142051</td>\n",
       "      <td>3.740263e+06</td>\n",
       "      <td>0.727343</td>\n",
       "    </tr>\n",
       "    <tr>\n",
       "      <th>min</th>\n",
       "      <td>0.000000</td>\n",
       "      <td>0.000000</td>\n",
       "      <td>101.000000</td>\n",
       "      <td>1.000000</td>\n",
       "      <td>100.000000</td>\n",
       "      <td>6.155556e+06</td>\n",
       "      <td>390147.000000</td>\n",
       "      <td>127300.000000</td>\n",
       "      <td>38.813470</td>\n",
       "      <td>-77.113640</td>\n",
       "      <td>-7.740000e+04</td>\n",
       "      <td>-93 days +01:05:00</td>\n",
       "      <td>-1 days +02:30:00</td>\n",
       "      <td>-8.031300e+06</td>\n",
       "      <td>1.000000</td>\n",
       "    </tr>\n",
       "    <tr>\n",
       "      <th>25%</th>\n",
       "      <td>9123.000000</td>\n",
       "      <td>2.000000</td>\n",
       "      <td>206.000000</td>\n",
       "      <td>2.000000</td>\n",
       "      <td>3500.000000</td>\n",
       "      <td>1.505885e+07</td>\n",
       "      <td>397228.000000</td>\n",
       "      <td>136027.000000</td>\n",
       "      <td>38.892080</td>\n",
       "      <td>-77.031960</td>\n",
       "      <td>NaN</td>\n",
       "      <td>0 days 00:15:00</td>\n",
       "      <td>0 days 00:06:00</td>\n",
       "      <td>NaN</td>\n",
       "      <td>1.000000</td>\n",
       "    </tr>\n",
       "    <tr>\n",
       "      <th>50%</th>\n",
       "      <td>18246.000000</td>\n",
       "      <td>4.000000</td>\n",
       "      <td>401.000000</td>\n",
       "      <td>5.000000</td>\n",
       "      <td>7000.000000</td>\n",
       "      <td>1.511063e+07</td>\n",
       "      <td>398878.000000</td>\n",
       "      <td>137622.530000</td>\n",
       "      <td>38.906460</td>\n",
       "      <td>-77.012930</td>\n",
       "      <td>NaN</td>\n",
       "      <td>0 days 01:05:00</td>\n",
       "      <td>0 days 00:51:00</td>\n",
       "      <td>NaN</td>\n",
       "      <td>2.000000</td>\n",
       "    </tr>\n",
       "    <tr>\n",
       "      <th>75%</th>\n",
       "      <td>27369.000000</td>\n",
       "      <td>5.000000</td>\n",
       "      <td>506.000000</td>\n",
       "      <td>6.000000</td>\n",
       "      <td>8904.000000</td>\n",
       "      <td>1.516497e+07</td>\n",
       "      <td>401257.000000</td>\n",
       "      <td>139839.000000</td>\n",
       "      <td>38.926420</td>\n",
       "      <td>-76.985510</td>\n",
       "      <td>NaN</td>\n",
       "      <td>0 days 03:22:00</td>\n",
       "      <td>0 days 07:00:00</td>\n",
       "      <td>NaN</td>\n",
       "      <td>2.000000</td>\n",
       "    </tr>\n",
       "    <tr>\n",
       "      <th>max</th>\n",
       "      <td>36492.000000</td>\n",
       "      <td>7.000000</td>\n",
       "      <td>708.000000</td>\n",
       "      <td>8.000000</td>\n",
       "      <td>11100.000000</td>\n",
       "      <td>1.619697e+07</td>\n",
       "      <td>407806.000000</td>\n",
       "      <td>147292.000000</td>\n",
       "      <td>38.993560</td>\n",
       "      <td>-76.910020</td>\n",
       "      <td>4.733352e+08</td>\n",
       "      <td>6385 days 20:01:00</td>\n",
       "      <td>5478 days 10:00:00</td>\n",
       "      <td>5.517361e+08</td>\n",
       "      <td>3.000000</td>\n",
       "    </tr>\n",
       "  </tbody>\n",
       "</table>\n",
       "</div>"
      ],
      "text/plain": [
       "                true       DISTRICT            PSA           WARD  \\\n",
       "count  255451.000000  255451.000000  255451.000000  255451.000000   \n",
       "mean    18246.000000       3.692434     374.061245       4.421259   \n",
       "std     10534.642303       1.950673     194.503544       2.339243   \n",
       "min         0.000000       0.000000     101.000000       1.000000   \n",
       "25%      9123.000000       2.000000     206.000000       2.000000   \n",
       "50%     18246.000000       4.000000     401.000000       5.000000   \n",
       "75%     27369.000000       5.000000     506.000000       6.000000   \n",
       "max     36492.000000       7.000000     708.000000       8.000000   \n",
       "\n",
       "        CENSUS_TRACT           CCN         XBLOCK         YBLOCK  \\\n",
       "count  255451.000000  2.554510e+05  255451.000000  255451.000000   \n",
       "mean     6211.274929  1.511937e+07  399301.346694  137698.576414   \n",
       "std      3141.262453  1.087812e+05    3113.078782    3424.463530   \n",
       "min       100.000000  6.155556e+06  390147.000000  127300.000000   \n",
       "25%      3500.000000  1.505885e+07  397228.000000  136027.000000   \n",
       "50%      7000.000000  1.511063e+07  398878.000000  137622.530000   \n",
       "75%      8904.000000  1.516497e+07  401257.000000  139839.000000   \n",
       "max     11100.000000  1.619697e+07  407806.000000  147292.000000   \n",
       "\n",
       "                 Lat           Long     CRIMETIME       INVESTIGATION_TIME  \\\n",
       "count  255451.000000  255451.000000  2.536870e+05                   255451   \n",
       "mean       38.907140     -77.008062  1.833292e+05   1 days 18:06:48.379141   \n",
       "std         0.030848       0.035893  4.452180e+06  43 days 03:22:28.288025   \n",
       "min        38.813470     -77.113640 -7.740000e+04       -93 days +01:05:00   \n",
       "25%        38.892080     -77.031960           NaN          0 days 00:15:00   \n",
       "50%        38.906460     -77.012930           NaN          0 days 01:05:00   \n",
       "75%        38.926420     -76.985510           NaN          0 days 03:22:00   \n",
       "max        38.993560     -76.910020  4.733352e+08       6385 days 20:01:00   \n",
       "\n",
       "                 CRIMETIME_REP  INVESTIGATION_TIME_MIN      SHIFT_NUM  \n",
       "count                   253687            2.536870e+05  255451.000000  \n",
       "mean    2 days 02:55:29.244226            1.526626e+05       1.817965  \n",
       "std    51 days 12:43:00.142051            3.740263e+06       0.727343  \n",
       "min          -1 days +02:30:00           -8.031300e+06       1.000000  \n",
       "25%            0 days 00:06:00                     NaN       1.000000  \n",
       "50%            0 days 00:51:00                     NaN       2.000000  \n",
       "75%            0 days 07:00:00                     NaN       2.000000  \n",
       "max         5478 days 10:00:00            5.517361e+08       3.000000  "
      ]
     },
     "execution_count": 117,
     "metadata": {},
     "output_type": "execute_result"
    }
   ],
   "source": [
    "dfsql.describe()"
   ]
  },
  {
   "cell_type": "code",
   "execution_count": 118,
   "metadata": {
    "collapsed": false
   },
   "outputs": [
    {
     "data": {
      "text/plain": [
       "0         False\n",
       "1         False\n",
       "2         False\n",
       "3         False\n",
       "4         False\n",
       "5         False\n",
       "6         False\n",
       "7         False\n",
       "8         False\n",
       "9         False\n",
       "10        False\n",
       "11        False\n",
       "12        False\n",
       "13        False\n",
       "14        False\n",
       "15        False\n",
       "16        False\n",
       "17        False\n",
       "18        False\n",
       "19        False\n",
       "20        False\n",
       "21        False\n",
       "22        False\n",
       "23        False\n",
       "24        False\n",
       "25        False\n",
       "26        False\n",
       "27        False\n",
       "28        False\n",
       "29        False\n",
       "          ...  \n",
       "255421    False\n",
       "255422    False\n",
       "255423    False\n",
       "255424    False\n",
       "255425    False\n",
       "255426    False\n",
       "255427    False\n",
       "255428    False\n",
       "255429    False\n",
       "255430    False\n",
       "255431    False\n",
       "255432    False\n",
       "255433    False\n",
       "255434    False\n",
       "255435    False\n",
       "255436    False\n",
       "255437    False\n",
       "255438     True\n",
       "255439    False\n",
       "255440    False\n",
       "255441    False\n",
       "255442    False\n",
       "255443    False\n",
       "255444    False\n",
       "255445    False\n",
       "255446    False\n",
       "255447    False\n",
       "255448    False\n",
       "255449    False\n",
       "255450    False\n",
       "Name: CRIMETIME, dtype: bool"
      ]
     },
     "execution_count": 118,
     "metadata": {},
     "output_type": "execute_result"
    }
   ],
   "source": [
    "dfsql['CRIMETIME'].isnull()"
   ]
  },
  {
   "cell_type": "code",
   "execution_count": 119,
   "metadata": {
    "collapsed": true
   },
   "outputs": [],
   "source": [
    "dfsql['CRIMETIME'] = dfsql['CRIMETIME'].fillna(10)"
   ]
  },
  {
   "cell_type": "code",
   "execution_count": 120,
   "metadata": {
    "collapsed": false
   },
   "outputs": [
    {
     "data": {
      "text/html": [
       "<div>\n",
       "<table border=\"1\" class=\"dataframe\">\n",
       "  <thead>\n",
       "    <tr style=\"text-align: right;\">\n",
       "      <th></th>\n",
       "      <th>true</th>\n",
       "      <th>DISTRICT</th>\n",
       "      <th>PSA</th>\n",
       "      <th>WARD</th>\n",
       "      <th>CENSUS_TRACT</th>\n",
       "      <th>CCN</th>\n",
       "      <th>XBLOCK</th>\n",
       "      <th>YBLOCK</th>\n",
       "      <th>Lat</th>\n",
       "      <th>Long</th>\n",
       "      <th>CRIMETIME</th>\n",
       "      <th>INVESTIGATION_TIME</th>\n",
       "      <th>CRIMETIME_REP</th>\n",
       "      <th>INVESTIGATION_TIME_MIN</th>\n",
       "      <th>SHIFT_NUM</th>\n",
       "    </tr>\n",
       "  </thead>\n",
       "  <tbody>\n",
       "    <tr>\n",
       "      <th>count</th>\n",
       "      <td>255451.000000</td>\n",
       "      <td>255451.000000</td>\n",
       "      <td>255451.000000</td>\n",
       "      <td>255451.000000</td>\n",
       "      <td>255451.000000</td>\n",
       "      <td>2.554510e+05</td>\n",
       "      <td>255451.000000</td>\n",
       "      <td>255451.000000</td>\n",
       "      <td>255451.000000</td>\n",
       "      <td>255451.000000</td>\n",
       "      <td>2.554510e+05</td>\n",
       "      <td>255451</td>\n",
       "      <td>253687</td>\n",
       "      <td>2.536870e+05</td>\n",
       "      <td>255451.000000</td>\n",
       "    </tr>\n",
       "    <tr>\n",
       "      <th>mean</th>\n",
       "      <td>18246.000000</td>\n",
       "      <td>3.692434</td>\n",
       "      <td>374.061245</td>\n",
       "      <td>4.421259</td>\n",
       "      <td>6211.274929</td>\n",
       "      <td>1.511937e+07</td>\n",
       "      <td>399301.346694</td>\n",
       "      <td>137698.576414</td>\n",
       "      <td>38.907140</td>\n",
       "      <td>-77.008062</td>\n",
       "      <td>1.820633e+05</td>\n",
       "      <td>1 days 18:06:48.379141</td>\n",
       "      <td>2 days 02:55:29.244226</td>\n",
       "      <td>1.526626e+05</td>\n",
       "      <td>1.817965</td>\n",
       "    </tr>\n",
       "    <tr>\n",
       "      <th>std</th>\n",
       "      <td>10534.642303</td>\n",
       "      <td>1.950673</td>\n",
       "      <td>194.503544</td>\n",
       "      <td>2.339243</td>\n",
       "      <td>3141.262453</td>\n",
       "      <td>1.087812e+05</td>\n",
       "      <td>3113.078782</td>\n",
       "      <td>3424.463530</td>\n",
       "      <td>0.030848</td>\n",
       "      <td>0.035893</td>\n",
       "      <td>4.436807e+06</td>\n",
       "      <td>43 days 03:22:28.288025</td>\n",
       "      <td>51 days 12:43:00.142051</td>\n",
       "      <td>3.740263e+06</td>\n",
       "      <td>0.727343</td>\n",
       "    </tr>\n",
       "    <tr>\n",
       "      <th>min</th>\n",
       "      <td>0.000000</td>\n",
       "      <td>0.000000</td>\n",
       "      <td>101.000000</td>\n",
       "      <td>1.000000</td>\n",
       "      <td>100.000000</td>\n",
       "      <td>6.155556e+06</td>\n",
       "      <td>390147.000000</td>\n",
       "      <td>127300.000000</td>\n",
       "      <td>38.813470</td>\n",
       "      <td>-77.113640</td>\n",
       "      <td>-7.740000e+04</td>\n",
       "      <td>-93 days +01:05:00</td>\n",
       "      <td>-1 days +02:30:00</td>\n",
       "      <td>-8.031300e+06</td>\n",
       "      <td>1.000000</td>\n",
       "    </tr>\n",
       "    <tr>\n",
       "      <th>25%</th>\n",
       "      <td>9123.000000</td>\n",
       "      <td>2.000000</td>\n",
       "      <td>206.000000</td>\n",
       "      <td>2.000000</td>\n",
       "      <td>3500.000000</td>\n",
       "      <td>1.505885e+07</td>\n",
       "      <td>397228.000000</td>\n",
       "      <td>136027.000000</td>\n",
       "      <td>38.892080</td>\n",
       "      <td>-77.031960</td>\n",
       "      <td>3.600000e+02</td>\n",
       "      <td>0 days 00:15:00</td>\n",
       "      <td>0 days 00:06:00</td>\n",
       "      <td>NaN</td>\n",
       "      <td>1.000000</td>\n",
       "    </tr>\n",
       "    <tr>\n",
       "      <th>50%</th>\n",
       "      <td>18246.000000</td>\n",
       "      <td>4.000000</td>\n",
       "      <td>401.000000</td>\n",
       "      <td>5.000000</td>\n",
       "      <td>7000.000000</td>\n",
       "      <td>1.511063e+07</td>\n",
       "      <td>398878.000000</td>\n",
       "      <td>137622.530000</td>\n",
       "      <td>38.906460</td>\n",
       "      <td>-77.012930</td>\n",
       "      <td>3.000000e+03</td>\n",
       "      <td>0 days 01:05:00</td>\n",
       "      <td>0 days 00:51:00</td>\n",
       "      <td>NaN</td>\n",
       "      <td>2.000000</td>\n",
       "    </tr>\n",
       "    <tr>\n",
       "      <th>75%</th>\n",
       "      <td>27369.000000</td>\n",
       "      <td>5.000000</td>\n",
       "      <td>506.000000</td>\n",
       "      <td>6.000000</td>\n",
       "      <td>8904.000000</td>\n",
       "      <td>1.516497e+07</td>\n",
       "      <td>401257.000000</td>\n",
       "      <td>139839.000000</td>\n",
       "      <td>38.926420</td>\n",
       "      <td>-76.985510</td>\n",
       "      <td>2.520000e+04</td>\n",
       "      <td>0 days 03:22:00</td>\n",
       "      <td>0 days 07:00:00</td>\n",
       "      <td>NaN</td>\n",
       "      <td>2.000000</td>\n",
       "    </tr>\n",
       "    <tr>\n",
       "      <th>max</th>\n",
       "      <td>36492.000000</td>\n",
       "      <td>7.000000</td>\n",
       "      <td>708.000000</td>\n",
       "      <td>8.000000</td>\n",
       "      <td>11100.000000</td>\n",
       "      <td>1.619697e+07</td>\n",
       "      <td>407806.000000</td>\n",
       "      <td>147292.000000</td>\n",
       "      <td>38.993560</td>\n",
       "      <td>-76.910020</td>\n",
       "      <td>4.733352e+08</td>\n",
       "      <td>6385 days 20:01:00</td>\n",
       "      <td>5478 days 10:00:00</td>\n",
       "      <td>5.517361e+08</td>\n",
       "      <td>3.000000</td>\n",
       "    </tr>\n",
       "  </tbody>\n",
       "</table>\n",
       "</div>"
      ],
      "text/plain": [
       "                true       DISTRICT            PSA           WARD  \\\n",
       "count  255451.000000  255451.000000  255451.000000  255451.000000   \n",
       "mean    18246.000000       3.692434     374.061245       4.421259   \n",
       "std     10534.642303       1.950673     194.503544       2.339243   \n",
       "min         0.000000       0.000000     101.000000       1.000000   \n",
       "25%      9123.000000       2.000000     206.000000       2.000000   \n",
       "50%     18246.000000       4.000000     401.000000       5.000000   \n",
       "75%     27369.000000       5.000000     506.000000       6.000000   \n",
       "max     36492.000000       7.000000     708.000000       8.000000   \n",
       "\n",
       "        CENSUS_TRACT           CCN         XBLOCK         YBLOCK  \\\n",
       "count  255451.000000  2.554510e+05  255451.000000  255451.000000   \n",
       "mean     6211.274929  1.511937e+07  399301.346694  137698.576414   \n",
       "std      3141.262453  1.087812e+05    3113.078782    3424.463530   \n",
       "min       100.000000  6.155556e+06  390147.000000  127300.000000   \n",
       "25%      3500.000000  1.505885e+07  397228.000000  136027.000000   \n",
       "50%      7000.000000  1.511063e+07  398878.000000  137622.530000   \n",
       "75%      8904.000000  1.516497e+07  401257.000000  139839.000000   \n",
       "max     11100.000000  1.619697e+07  407806.000000  147292.000000   \n",
       "\n",
       "                 Lat           Long     CRIMETIME       INVESTIGATION_TIME  \\\n",
       "count  255451.000000  255451.000000  2.554510e+05                   255451   \n",
       "mean       38.907140     -77.008062  1.820633e+05   1 days 18:06:48.379141   \n",
       "std         0.030848       0.035893  4.436807e+06  43 days 03:22:28.288025   \n",
       "min        38.813470     -77.113640 -7.740000e+04       -93 days +01:05:00   \n",
       "25%        38.892080     -77.031960  3.600000e+02          0 days 00:15:00   \n",
       "50%        38.906460     -77.012930  3.000000e+03          0 days 01:05:00   \n",
       "75%        38.926420     -76.985510  2.520000e+04          0 days 03:22:00   \n",
       "max        38.993560     -76.910020  4.733352e+08       6385 days 20:01:00   \n",
       "\n",
       "                 CRIMETIME_REP  INVESTIGATION_TIME_MIN      SHIFT_NUM  \n",
       "count                   253687            2.536870e+05  255451.000000  \n",
       "mean    2 days 02:55:29.244226            1.526626e+05       1.817965  \n",
       "std    51 days 12:43:00.142051            3.740263e+06       0.727343  \n",
       "min          -1 days +02:30:00           -8.031300e+06       1.000000  \n",
       "25%            0 days 00:06:00                     NaN       1.000000  \n",
       "50%            0 days 00:51:00                     NaN       2.000000  \n",
       "75%            0 days 07:00:00                     NaN       2.000000  \n",
       "max         5478 days 10:00:00            5.517361e+08       3.000000  "
      ]
     },
     "execution_count": 120,
     "metadata": {},
     "output_type": "execute_result"
    }
   ],
   "source": [
    "dfsql.describe()"
   ]
  },
  {
   "cell_type": "code",
   "execution_count": 121,
   "metadata": {
    "collapsed": true
   },
   "outputs": [],
   "source": [
    "dfsql['INVESTIGATION_TIME_MIN'] = dfsql['INVESTIGATION_TIME_MIN'].fillna(10)"
   ]
  },
  {
   "cell_type": "code",
   "execution_count": 122,
   "metadata": {
    "collapsed": false
   },
   "outputs": [
    {
     "data": {
      "text/html": [
       "<div>\n",
       "<table border=\"1\" class=\"dataframe\">\n",
       "  <thead>\n",
       "    <tr style=\"text-align: right;\">\n",
       "      <th></th>\n",
       "      <th>true</th>\n",
       "      <th>DISTRICT</th>\n",
       "      <th>PSA</th>\n",
       "      <th>WARD</th>\n",
       "      <th>CENSUS_TRACT</th>\n",
       "      <th>CCN</th>\n",
       "      <th>XBLOCK</th>\n",
       "      <th>YBLOCK</th>\n",
       "      <th>Lat</th>\n",
       "      <th>Long</th>\n",
       "      <th>CRIMETIME</th>\n",
       "      <th>INVESTIGATION_TIME</th>\n",
       "      <th>CRIMETIME_REP</th>\n",
       "      <th>INVESTIGATION_TIME_MIN</th>\n",
       "      <th>SHIFT_NUM</th>\n",
       "    </tr>\n",
       "  </thead>\n",
       "  <tbody>\n",
       "    <tr>\n",
       "      <th>count</th>\n",
       "      <td>255451.000000</td>\n",
       "      <td>255451.000000</td>\n",
       "      <td>255451.000000</td>\n",
       "      <td>255451.000000</td>\n",
       "      <td>255451.000000</td>\n",
       "      <td>2.554510e+05</td>\n",
       "      <td>255451.000000</td>\n",
       "      <td>255451.000000</td>\n",
       "      <td>255451.000000</td>\n",
       "      <td>255451.000000</td>\n",
       "      <td>2.554510e+05</td>\n",
       "      <td>255451</td>\n",
       "      <td>253687</td>\n",
       "      <td>2.554510e+05</td>\n",
       "      <td>255451.000000</td>\n",
       "    </tr>\n",
       "    <tr>\n",
       "      <th>mean</th>\n",
       "      <td>18246.000000</td>\n",
       "      <td>3.692434</td>\n",
       "      <td>374.061245</td>\n",
       "      <td>4.421259</td>\n",
       "      <td>6211.274929</td>\n",
       "      <td>1.511937e+07</td>\n",
       "      <td>399301.346694</td>\n",
       "      <td>137698.576414</td>\n",
       "      <td>38.907140</td>\n",
       "      <td>-77.008062</td>\n",
       "      <td>1.820633e+05</td>\n",
       "      <td>1 days 18:06:48.379141</td>\n",
       "      <td>2 days 02:55:29.244226</td>\n",
       "      <td>1.516084e+05</td>\n",
       "      <td>1.817965</td>\n",
       "    </tr>\n",
       "    <tr>\n",
       "      <th>std</th>\n",
       "      <td>10534.642303</td>\n",
       "      <td>1.950673</td>\n",
       "      <td>194.503544</td>\n",
       "      <td>2.339243</td>\n",
       "      <td>3141.262453</td>\n",
       "      <td>1.087812e+05</td>\n",
       "      <td>3113.078782</td>\n",
       "      <td>3424.463530</td>\n",
       "      <td>0.030848</td>\n",
       "      <td>0.035893</td>\n",
       "      <td>4.436807e+06</td>\n",
       "      <td>43 days 03:22:28.288025</td>\n",
       "      <td>51 days 12:43:00.142051</td>\n",
       "      <td>3.727348e+06</td>\n",
       "      <td>0.727343</td>\n",
       "    </tr>\n",
       "    <tr>\n",
       "      <th>min</th>\n",
       "      <td>0.000000</td>\n",
       "      <td>0.000000</td>\n",
       "      <td>101.000000</td>\n",
       "      <td>1.000000</td>\n",
       "      <td>100.000000</td>\n",
       "      <td>6.155556e+06</td>\n",
       "      <td>390147.000000</td>\n",
       "      <td>127300.000000</td>\n",
       "      <td>38.813470</td>\n",
       "      <td>-77.113640</td>\n",
       "      <td>-7.740000e+04</td>\n",
       "      <td>-93 days +01:05:00</td>\n",
       "      <td>-1 days +02:30:00</td>\n",
       "      <td>-8.031300e+06</td>\n",
       "      <td>1.000000</td>\n",
       "    </tr>\n",
       "    <tr>\n",
       "      <th>25%</th>\n",
       "      <td>9123.000000</td>\n",
       "      <td>2.000000</td>\n",
       "      <td>206.000000</td>\n",
       "      <td>2.000000</td>\n",
       "      <td>3500.000000</td>\n",
       "      <td>1.505885e+07</td>\n",
       "      <td>397228.000000</td>\n",
       "      <td>136027.000000</td>\n",
       "      <td>38.892080</td>\n",
       "      <td>-77.031960</td>\n",
       "      <td>3.600000e+02</td>\n",
       "      <td>0 days 00:15:00</td>\n",
       "      <td>0 days 00:06:00</td>\n",
       "      <td>9.000000e+02</td>\n",
       "      <td>1.000000</td>\n",
       "    </tr>\n",
       "    <tr>\n",
       "      <th>50%</th>\n",
       "      <td>18246.000000</td>\n",
       "      <td>4.000000</td>\n",
       "      <td>401.000000</td>\n",
       "      <td>5.000000</td>\n",
       "      <td>7000.000000</td>\n",
       "      <td>1.511063e+07</td>\n",
       "      <td>398878.000000</td>\n",
       "      <td>137622.530000</td>\n",
       "      <td>38.906460</td>\n",
       "      <td>-77.012930</td>\n",
       "      <td>3.000000e+03</td>\n",
       "      <td>0 days 01:05:00</td>\n",
       "      <td>0 days 00:51:00</td>\n",
       "      <td>3.900000e+03</td>\n",
       "      <td>2.000000</td>\n",
       "    </tr>\n",
       "    <tr>\n",
       "      <th>75%</th>\n",
       "      <td>27369.000000</td>\n",
       "      <td>5.000000</td>\n",
       "      <td>506.000000</td>\n",
       "      <td>6.000000</td>\n",
       "      <td>8904.000000</td>\n",
       "      <td>1.516497e+07</td>\n",
       "      <td>401257.000000</td>\n",
       "      <td>139839.000000</td>\n",
       "      <td>38.926420</td>\n",
       "      <td>-76.985510</td>\n",
       "      <td>2.520000e+04</td>\n",
       "      <td>0 days 03:22:00</td>\n",
       "      <td>0 days 07:00:00</td>\n",
       "      <td>1.212000e+04</td>\n",
       "      <td>2.000000</td>\n",
       "    </tr>\n",
       "    <tr>\n",
       "      <th>max</th>\n",
       "      <td>36492.000000</td>\n",
       "      <td>7.000000</td>\n",
       "      <td>708.000000</td>\n",
       "      <td>8.000000</td>\n",
       "      <td>11100.000000</td>\n",
       "      <td>1.619697e+07</td>\n",
       "      <td>407806.000000</td>\n",
       "      <td>147292.000000</td>\n",
       "      <td>38.993560</td>\n",
       "      <td>-76.910020</td>\n",
       "      <td>4.733352e+08</td>\n",
       "      <td>6385 days 20:01:00</td>\n",
       "      <td>5478 days 10:00:00</td>\n",
       "      <td>5.517361e+08</td>\n",
       "      <td>3.000000</td>\n",
       "    </tr>\n",
       "  </tbody>\n",
       "</table>\n",
       "</div>"
      ],
      "text/plain": [
       "                true       DISTRICT            PSA           WARD  \\\n",
       "count  255451.000000  255451.000000  255451.000000  255451.000000   \n",
       "mean    18246.000000       3.692434     374.061245       4.421259   \n",
       "std     10534.642303       1.950673     194.503544       2.339243   \n",
       "min         0.000000       0.000000     101.000000       1.000000   \n",
       "25%      9123.000000       2.000000     206.000000       2.000000   \n",
       "50%     18246.000000       4.000000     401.000000       5.000000   \n",
       "75%     27369.000000       5.000000     506.000000       6.000000   \n",
       "max     36492.000000       7.000000     708.000000       8.000000   \n",
       "\n",
       "        CENSUS_TRACT           CCN         XBLOCK         YBLOCK  \\\n",
       "count  255451.000000  2.554510e+05  255451.000000  255451.000000   \n",
       "mean     6211.274929  1.511937e+07  399301.346694  137698.576414   \n",
       "std      3141.262453  1.087812e+05    3113.078782    3424.463530   \n",
       "min       100.000000  6.155556e+06  390147.000000  127300.000000   \n",
       "25%      3500.000000  1.505885e+07  397228.000000  136027.000000   \n",
       "50%      7000.000000  1.511063e+07  398878.000000  137622.530000   \n",
       "75%      8904.000000  1.516497e+07  401257.000000  139839.000000   \n",
       "max     11100.000000  1.619697e+07  407806.000000  147292.000000   \n",
       "\n",
       "                 Lat           Long     CRIMETIME       INVESTIGATION_TIME  \\\n",
       "count  255451.000000  255451.000000  2.554510e+05                   255451   \n",
       "mean       38.907140     -77.008062  1.820633e+05   1 days 18:06:48.379141   \n",
       "std         0.030848       0.035893  4.436807e+06  43 days 03:22:28.288025   \n",
       "min        38.813470     -77.113640 -7.740000e+04       -93 days +01:05:00   \n",
       "25%        38.892080     -77.031960  3.600000e+02          0 days 00:15:00   \n",
       "50%        38.906460     -77.012930  3.000000e+03          0 days 01:05:00   \n",
       "75%        38.926420     -76.985510  2.520000e+04          0 days 03:22:00   \n",
       "max        38.993560     -76.910020  4.733352e+08       6385 days 20:01:00   \n",
       "\n",
       "                 CRIMETIME_REP  INVESTIGATION_TIME_MIN      SHIFT_NUM  \n",
       "count                   253687            2.554510e+05  255451.000000  \n",
       "mean    2 days 02:55:29.244226            1.516084e+05       1.817965  \n",
       "std    51 days 12:43:00.142051            3.727348e+06       0.727343  \n",
       "min          -1 days +02:30:00           -8.031300e+06       1.000000  \n",
       "25%            0 days 00:06:00            9.000000e+02       1.000000  \n",
       "50%            0 days 00:51:00            3.900000e+03       2.000000  \n",
       "75%            0 days 07:00:00            1.212000e+04       2.000000  \n",
       "max         5478 days 10:00:00            5.517361e+08       3.000000  "
      ]
     },
     "execution_count": 122,
     "metadata": {},
     "output_type": "execute_result"
    }
   ],
   "source": [
    "dfsql.describe()"
   ]
  },
  {
   "cell_type": "code",
   "execution_count": 125,
   "metadata": {
    "collapsed": false
   },
   "outputs": [
    {
     "ename": "OperationalError",
     "evalue": "duplicate column name: true",
     "output_type": "error",
     "traceback": [
      "\u001b[0;31m---------------------------------------------------------------------------\u001b[0m",
      "\u001b[0;31mOperationalError\u001b[0m                          Traceback (most recent call last)",
      "\u001b[0;32m<ipython-input-125-f447fb1741a0>\u001b[0m in \u001b[0;36m<module>\u001b[0;34m()\u001b[0m\n\u001b[1;32m      1\u001b[0m \u001b[0mcon\u001b[0m \u001b[0;34m=\u001b[0m \u001b[0msl\u001b[0m\u001b[0;34m.\u001b[0m\u001b[0mconnect\u001b[0m\u001b[0;34m(\u001b[0m\u001b[0;34m'/Users/muraliparthasarathy/Documents/DataMining/dcCrimeDatacleaned.db'\u001b[0m\u001b[0;34m)\u001b[0m\u001b[0;34m;\u001b[0m\u001b[0;34m\u001b[0m\u001b[0m\n\u001b[0;32m----> 2\u001b[0;31m \u001b[0mdfsql\u001b[0m\u001b[0;34m.\u001b[0m\u001b[0mto_sql\u001b[0m\u001b[0;34m(\u001b[0m\u001b[0;34m'dcCrimeDataclean'\u001b[0m\u001b[0;34m,\u001b[0m\u001b[0mcon\u001b[0m\u001b[0;34m,\u001b[0m\u001b[0mschema\u001b[0m\u001b[0;34m=\u001b[0m\u001b[0;34m'None'\u001b[0m\u001b[0;34m,\u001b[0m\u001b[0mif_exists\u001b[0m\u001b[0;34m=\u001b[0m\u001b[0;34m'append'\u001b[0m\u001b[0;34m,\u001b[0m\u001b[0mindex\u001b[0m\u001b[0;34m=\u001b[0m\u001b[0;34m'true'\u001b[0m\u001b[0;34m,\u001b[0m\u001b[0mindex_label\u001b[0m\u001b[0;34m=\u001b[0m\u001b[0;34m'None'\u001b[0m\u001b[0;34m)\u001b[0m\u001b[0;34m;\u001b[0m\u001b[0;34m\u001b[0m\u001b[0m\n\u001b[0m",
      "\u001b[0;32m/Users/muraliparthasarathy/anaconda2/anaconda/lib/python2.7/site-packages/pandas/core/generic.pyc\u001b[0m in \u001b[0;36mto_sql\u001b[0;34m(self, name, con, flavor, schema, if_exists, index, index_label, chunksize, dtype)\u001b[0m\n\u001b[1;32m   1163\u001b[0m         sql.to_sql(self, name, con, flavor=flavor, schema=schema,\n\u001b[1;32m   1164\u001b[0m                    \u001b[0mif_exists\u001b[0m\u001b[0;34m=\u001b[0m\u001b[0mif_exists\u001b[0m\u001b[0;34m,\u001b[0m \u001b[0mindex\u001b[0m\u001b[0;34m=\u001b[0m\u001b[0mindex\u001b[0m\u001b[0;34m,\u001b[0m \u001b[0mindex_label\u001b[0m\u001b[0;34m=\u001b[0m\u001b[0mindex_label\u001b[0m\u001b[0;34m,\u001b[0m\u001b[0;34m\u001b[0m\u001b[0m\n\u001b[0;32m-> 1165\u001b[0;31m                    chunksize=chunksize, dtype=dtype)\n\u001b[0m\u001b[1;32m   1166\u001b[0m \u001b[0;34m\u001b[0m\u001b[0m\n\u001b[1;32m   1167\u001b[0m     \u001b[0;32mdef\u001b[0m \u001b[0mto_pickle\u001b[0m\u001b[0;34m(\u001b[0m\u001b[0mself\u001b[0m\u001b[0;34m,\u001b[0m \u001b[0mpath\u001b[0m\u001b[0;34m)\u001b[0m\u001b[0;34m:\u001b[0m\u001b[0;34m\u001b[0m\u001b[0m\n",
      "\u001b[0;32m/Users/muraliparthasarathy/anaconda2/anaconda/lib/python2.7/site-packages/pandas/io/sql.pyc\u001b[0m in \u001b[0;36mto_sql\u001b[0;34m(frame, name, con, flavor, schema, if_exists, index, index_label, chunksize, dtype)\u001b[0m\n\u001b[1;32m    569\u001b[0m     pandas_sql.to_sql(frame, name, if_exists=if_exists, index=index,\n\u001b[1;32m    570\u001b[0m                       \u001b[0mindex_label\u001b[0m\u001b[0;34m=\u001b[0m\u001b[0mindex_label\u001b[0m\u001b[0;34m,\u001b[0m \u001b[0mschema\u001b[0m\u001b[0;34m=\u001b[0m\u001b[0mschema\u001b[0m\u001b[0;34m,\u001b[0m\u001b[0;34m\u001b[0m\u001b[0m\n\u001b[0;32m--> 571\u001b[0;31m                       chunksize=chunksize, dtype=dtype)\n\u001b[0m\u001b[1;32m    572\u001b[0m \u001b[0;34m\u001b[0m\u001b[0m\n\u001b[1;32m    573\u001b[0m \u001b[0;34m\u001b[0m\u001b[0m\n",
      "\u001b[0;32m/Users/muraliparthasarathy/anaconda2/anaconda/lib/python2.7/site-packages/pandas/io/sql.pyc\u001b[0m in \u001b[0;36mto_sql\u001b[0;34m(self, frame, name, if_exists, index, index_label, schema, chunksize, dtype)\u001b[0m\n\u001b[1;32m   1659\u001b[0m                             \u001b[0mif_exists\u001b[0m\u001b[0;34m=\u001b[0m\u001b[0mif_exists\u001b[0m\u001b[0;34m,\u001b[0m \u001b[0mindex_label\u001b[0m\u001b[0;34m=\u001b[0m\u001b[0mindex_label\u001b[0m\u001b[0;34m,\u001b[0m\u001b[0;34m\u001b[0m\u001b[0m\n\u001b[1;32m   1660\u001b[0m                             dtype=dtype)\n\u001b[0;32m-> 1661\u001b[0;31m         \u001b[0mtable\u001b[0m\u001b[0;34m.\u001b[0m\u001b[0mcreate\u001b[0m\u001b[0;34m(\u001b[0m\u001b[0;34m)\u001b[0m\u001b[0;34m\u001b[0m\u001b[0m\n\u001b[0m\u001b[1;32m   1662\u001b[0m         \u001b[0mtable\u001b[0m\u001b[0;34m.\u001b[0m\u001b[0minsert\u001b[0m\u001b[0;34m(\u001b[0m\u001b[0mchunksize\u001b[0m\u001b[0;34m)\u001b[0m\u001b[0;34m\u001b[0m\u001b[0m\n\u001b[1;32m   1663\u001b[0m \u001b[0;34m\u001b[0m\u001b[0m\n",
      "\u001b[0;32m/Users/muraliparthasarathy/anaconda2/anaconda/lib/python2.7/site-packages/pandas/io/sql.pyc\u001b[0m in \u001b[0;36mcreate\u001b[0;34m(self)\u001b[0m\n\u001b[1;32m    700\u001b[0m                     \"'{0}' is not valid for if_exists\".format(self.if_exists))\n\u001b[1;32m    701\u001b[0m         \u001b[0;32melse\u001b[0m\u001b[0;34m:\u001b[0m\u001b[0;34m\u001b[0m\u001b[0m\n\u001b[0;32m--> 702\u001b[0;31m             \u001b[0mself\u001b[0m\u001b[0;34m.\u001b[0m\u001b[0m_execute_create\u001b[0m\u001b[0;34m(\u001b[0m\u001b[0;34m)\u001b[0m\u001b[0;34m\u001b[0m\u001b[0m\n\u001b[0m\u001b[1;32m    703\u001b[0m \u001b[0;34m\u001b[0m\u001b[0m\n\u001b[1;32m    704\u001b[0m     \u001b[0;32mdef\u001b[0m \u001b[0minsert_statement\u001b[0m\u001b[0;34m(\u001b[0m\u001b[0mself\u001b[0m\u001b[0;34m)\u001b[0m\u001b[0;34m:\u001b[0m\u001b[0;34m\u001b[0m\u001b[0m\n",
      "\u001b[0;32m/Users/muraliparthasarathy/anaconda2/anaconda/lib/python2.7/site-packages/pandas/io/sql.pyc\u001b[0m in \u001b[0;36m_execute_create\u001b[0;34m(self)\u001b[0m\n\u001b[1;32m   1423\u001b[0m         \u001b[0;32mwith\u001b[0m \u001b[0mself\u001b[0m\u001b[0;34m.\u001b[0m\u001b[0mpd_sql\u001b[0m\u001b[0;34m.\u001b[0m\u001b[0mrun_transaction\u001b[0m\u001b[0;34m(\u001b[0m\u001b[0;34m)\u001b[0m \u001b[0;32mas\u001b[0m \u001b[0mconn\u001b[0m\u001b[0;34m:\u001b[0m\u001b[0;34m\u001b[0m\u001b[0m\n\u001b[1;32m   1424\u001b[0m             \u001b[0;32mfor\u001b[0m \u001b[0mstmt\u001b[0m \u001b[0;32min\u001b[0m \u001b[0mself\u001b[0m\u001b[0;34m.\u001b[0m\u001b[0mtable\u001b[0m\u001b[0;34m:\u001b[0m\u001b[0;34m\u001b[0m\u001b[0m\n\u001b[0;32m-> 1425\u001b[0;31m                 \u001b[0mconn\u001b[0m\u001b[0;34m.\u001b[0m\u001b[0mexecute\u001b[0m\u001b[0;34m(\u001b[0m\u001b[0mstmt\u001b[0m\u001b[0;34m)\u001b[0m\u001b[0;34m\u001b[0m\u001b[0m\n\u001b[0m\u001b[1;32m   1426\u001b[0m \u001b[0;34m\u001b[0m\u001b[0m\n\u001b[1;32m   1427\u001b[0m     \u001b[0;32mdef\u001b[0m \u001b[0minsert_statement\u001b[0m\u001b[0;34m(\u001b[0m\u001b[0mself\u001b[0m\u001b[0;34m)\u001b[0m\u001b[0;34m:\u001b[0m\u001b[0;34m\u001b[0m\u001b[0m\n",
      "\u001b[0;31mOperationalError\u001b[0m: duplicate column name: true"
     ]
    }
   ],
   "source": [
    "con = sl.connect('/Users/muraliparthasarathy/Documents/DataMining/dcCrimeDatacleaned.db');\n",
    "dfsql.to_sql('dcCrimeDataclean',con,schema='None',if_exists='append',index='true',index_label='None');"
   ]
  },
  {
   "cell_type": "code",
   "execution_count": 124,
   "metadata": {
    "collapsed": true
   },
   "outputs": [],
   "source": [
    "dfsql.to_csv('/Users/muraliparthasarathy/Documents/DataMining/lab1/MSDS7331_Project_DC/data/MuraliDataClean.csv')"
   ]
  },
  {
   "cell_type": "code",
   "execution_count": 134,
   "metadata": {
    "collapsed": false
   },
   "outputs": [
    {
     "name": "stdout",
     "output_type": "stream",
     "text": [
      "<class 'pandas.core.frame.DataFrame'>\n",
      "RangeIndex: 255451 entries, 0 to 255450\n",
      "Data columns (total 33 columns):\n",
      "true                        255451 non-null int64\n",
      "REPORT_DAT                  255451 non-null object\n",
      "SHIFT                       255451 non-null object\n",
      "OFFENSE                     255451 non-null object\n",
      "METHOD                      255451 non-null object\n",
      "BLOCK                       255451 non-null object\n",
      "DISTRICT                    255451 non-null float64\n",
      "PSA                         255451 non-null float64\n",
      "WARD                        255451 non-null int64\n",
      "ANC                         255451 non-null object\n",
      "NEIGHBORHOOD_CLUSTER        255451 non-null object\n",
      "BLOCK_GROUP                 254653 non-null object\n",
      "CENSUS_TRACT                255451 non-null float64\n",
      "VOTING_PRECINCT             255451 non-null object\n",
      "CCN                         255451 non-null int64\n",
      "XBLOCK                      255451 non-null float64\n",
      "YBLOCK                      255451 non-null float64\n",
      "START_DATE                  255451 non-null object\n",
      "END_DATE                    253687 non-null object\n",
      "Lat                         255451 non-null float64\n",
      "Long                        255451 non-null float64\n",
      "REPORT_DAT_FORMAT           255451 non-null datetime64[ns]\n",
      "END_DATE_FORMAT             253687 non-null datetime64[ns]\n",
      "START_DATE_FORMAT           255451 non-null datetime64[ns]\n",
      "CRIMETIME                   255451 non-null float64\n",
      "INVESTIGATION_TIME          255451 non-null timedelta64[ns]\n",
      "CRIMETIME_REP               253687 non-null timedelta64[ns]\n",
      "INVESTIGATION_TIME_MIN      255451 non-null float64\n",
      "SHIFT_NUM                   255451 non-null int64\n",
      "BLOCK_NUM                   255451 non-null object\n",
      "ANC_NUM                     255451 non-null int64\n",
      "NEIGHBORHOOD_CLUSTER_NUM    255451 non-null object\n",
      "VOTING_PRECINCT_NUM         255451 non-null object\n",
      "dtypes: datetime64[ns](3), float64(9), int64(5), object(14), timedelta64[ns](2)\n",
      "memory usage: 64.3+ MB\n"
     ]
    }
   ],
   "source": [
    "dfsql.info()\n"
   ]
  },
  {
   "cell_type": "code",
   "execution_count": 135,
   "metadata": {
    "collapsed": false
   },
   "outputs": [
    {
     "data": {
      "text/plain": [
       "0            22\n",
       "1            40\n",
       "2            39\n",
       "3            37\n",
       "4            39\n",
       "5            37\n",
       "6            23\n",
       "7            40\n",
       "8            22\n",
       "9            36\n",
       "10           38\n",
       "11           22\n",
       "12           40\n",
       "13           35\n",
       "14           42\n",
       "15           39\n",
       "16           23\n",
       "17           35\n",
       "18           38\n",
       "19           37\n",
       "20           42\n",
       "21           41\n",
       "22           39\n",
       "23           22\n",
       "24           36\n",
       "25           25\n",
       "26           25\n",
       "27           38\n",
       "28           39\n",
       "29           36\n",
       "          ...  \n",
       "255421      125\n",
       "255422      119\n",
       "255423      125\n",
       "255424      125\n",
       "255425      124\n",
       "255426      119\n",
       "255427      116\n",
       "255428      114\n",
       "255429      119\n",
       "255430      114\n",
       "255431      118\n",
       "255432      118\n",
       "255433      114\n",
       "255434      121\n",
       "255435      119\n",
       "255436      124\n",
       "255437      116\n",
       "255438      118\n",
       "255439      120\n",
       "255440      117\n",
       "255441      140\n",
       "255442      119\n",
       "255443      125\n",
       "255444      115\n",
       "255445      126\n",
       "255446      115\n",
       "255447      134\n",
       "255448      116\n",
       "255449      123\n",
       "255450      124\n",
       "Name: VOTING_PRECINCT_NUM, dtype: object"
      ]
     },
     "execution_count": 135,
     "metadata": {},
     "output_type": "execute_result"
    }
   ],
   "source": [
    "dfsql['VOTING_PRECINCT_NUM']"
   ]
  },
  {
   "cell_type": "code",
   "execution_count": 136,
   "metadata": {
    "collapsed": false
   },
   "outputs": [
    {
     "data": {
      "text/html": [
       "<div>\n",
       "<table border=\"1\" class=\"dataframe\">\n",
       "  <thead>\n",
       "    <tr style=\"text-align: right;\">\n",
       "      <th></th>\n",
       "      <th>true</th>\n",
       "      <th>DISTRICT</th>\n",
       "      <th>PSA</th>\n",
       "      <th>WARD</th>\n",
       "      <th>CENSUS_TRACT</th>\n",
       "      <th>CCN</th>\n",
       "      <th>XBLOCK</th>\n",
       "      <th>YBLOCK</th>\n",
       "      <th>Lat</th>\n",
       "      <th>Long</th>\n",
       "      <th>CRIMETIME</th>\n",
       "      <th>INVESTIGATION_TIME</th>\n",
       "      <th>CRIMETIME_REP</th>\n",
       "      <th>INVESTIGATION_TIME_MIN</th>\n",
       "      <th>SHIFT_NUM</th>\n",
       "      <th>ANC_NUM</th>\n",
       "    </tr>\n",
       "  </thead>\n",
       "  <tbody>\n",
       "    <tr>\n",
       "      <th>count</th>\n",
       "      <td>255451.000000</td>\n",
       "      <td>255451.000000</td>\n",
       "      <td>255451.000000</td>\n",
       "      <td>255451.000000</td>\n",
       "      <td>255451.000000</td>\n",
       "      <td>2.554510e+05</td>\n",
       "      <td>255451.000000</td>\n",
       "      <td>255451.000000</td>\n",
       "      <td>255451.000000</td>\n",
       "      <td>255451.000000</td>\n",
       "      <td>2.554510e+05</td>\n",
       "      <td>255451</td>\n",
       "      <td>253687</td>\n",
       "      <td>2.554510e+05</td>\n",
       "      <td>255451.000000</td>\n",
       "      <td>255451.000000</td>\n",
       "    </tr>\n",
       "    <tr>\n",
       "      <th>mean</th>\n",
       "      <td>18246.000000</td>\n",
       "      <td>3.692434</td>\n",
       "      <td>374.061245</td>\n",
       "      <td>4.421259</td>\n",
       "      <td>6211.274929</td>\n",
       "      <td>1.511937e+07</td>\n",
       "      <td>399301.346694</td>\n",
       "      <td>137698.576414</td>\n",
       "      <td>38.907140</td>\n",
       "      <td>-77.008062</td>\n",
       "      <td>1.820633e+05</td>\n",
       "      <td>1 days 18:06:48.379141</td>\n",
       "      <td>2 days 02:55:29.244226</td>\n",
       "      <td>1.516084e+05</td>\n",
       "      <td>1.817965</td>\n",
       "      <td>3.068671</td>\n",
       "    </tr>\n",
       "    <tr>\n",
       "      <th>std</th>\n",
       "      <td>10534.642303</td>\n",
       "      <td>1.950673</td>\n",
       "      <td>194.503544</td>\n",
       "      <td>2.339243</td>\n",
       "      <td>3141.262453</td>\n",
       "      <td>1.087812e+05</td>\n",
       "      <td>3113.078782</td>\n",
       "      <td>3424.463530</td>\n",
       "      <td>0.030848</td>\n",
       "      <td>0.035893</td>\n",
       "      <td>4.436807e+06</td>\n",
       "      <td>43 days 03:22:28.288025</td>\n",
       "      <td>51 days 12:43:00.142051</td>\n",
       "      <td>3.727348e+06</td>\n",
       "      <td>0.727343</td>\n",
       "      <td>1.536254</td>\n",
       "    </tr>\n",
       "    <tr>\n",
       "      <th>min</th>\n",
       "      <td>0.000000</td>\n",
       "      <td>0.000000</td>\n",
       "      <td>101.000000</td>\n",
       "      <td>1.000000</td>\n",
       "      <td>100.000000</td>\n",
       "      <td>6.155556e+06</td>\n",
       "      <td>390147.000000</td>\n",
       "      <td>127300.000000</td>\n",
       "      <td>38.813470</td>\n",
       "      <td>-77.113640</td>\n",
       "      <td>-7.740000e+04</td>\n",
       "      <td>-93 days +01:05:00</td>\n",
       "      <td>-1 days +02:30:00</td>\n",
       "      <td>-8.031300e+06</td>\n",
       "      <td>1.000000</td>\n",
       "      <td>1.000000</td>\n",
       "    </tr>\n",
       "    <tr>\n",
       "      <th>25%</th>\n",
       "      <td>9123.000000</td>\n",
       "      <td>2.000000</td>\n",
       "      <td>206.000000</td>\n",
       "      <td>2.000000</td>\n",
       "      <td>3500.000000</td>\n",
       "      <td>1.505885e+07</td>\n",
       "      <td>397228.000000</td>\n",
       "      <td>136027.000000</td>\n",
       "      <td>38.892080</td>\n",
       "      <td>-77.031960</td>\n",
       "      <td>3.600000e+02</td>\n",
       "      <td>0 days 00:15:00</td>\n",
       "      <td>0 days 00:06:00</td>\n",
       "      <td>9.000000e+02</td>\n",
       "      <td>1.000000</td>\n",
       "      <td>2.000000</td>\n",
       "    </tr>\n",
       "    <tr>\n",
       "      <th>50%</th>\n",
       "      <td>18246.000000</td>\n",
       "      <td>4.000000</td>\n",
       "      <td>401.000000</td>\n",
       "      <td>5.000000</td>\n",
       "      <td>7000.000000</td>\n",
       "      <td>1.511063e+07</td>\n",
       "      <td>398878.000000</td>\n",
       "      <td>137622.530000</td>\n",
       "      <td>38.906460</td>\n",
       "      <td>-77.012930</td>\n",
       "      <td>3.000000e+03</td>\n",
       "      <td>0 days 01:05:00</td>\n",
       "      <td>0 days 00:51:00</td>\n",
       "      <td>3.900000e+03</td>\n",
       "      <td>2.000000</td>\n",
       "      <td>3.000000</td>\n",
       "    </tr>\n",
       "    <tr>\n",
       "      <th>75%</th>\n",
       "      <td>27369.000000</td>\n",
       "      <td>5.000000</td>\n",
       "      <td>506.000000</td>\n",
       "      <td>6.000000</td>\n",
       "      <td>8904.000000</td>\n",
       "      <td>1.516497e+07</td>\n",
       "      <td>401257.000000</td>\n",
       "      <td>139839.000000</td>\n",
       "      <td>38.926420</td>\n",
       "      <td>-76.985510</td>\n",
       "      <td>2.520000e+04</td>\n",
       "      <td>0 days 03:22:00</td>\n",
       "      <td>0 days 07:00:00</td>\n",
       "      <td>1.212000e+04</td>\n",
       "      <td>2.000000</td>\n",
       "      <td>4.000000</td>\n",
       "    </tr>\n",
       "    <tr>\n",
       "      <th>max</th>\n",
       "      <td>36492.000000</td>\n",
       "      <td>7.000000</td>\n",
       "      <td>708.000000</td>\n",
       "      <td>8.000000</td>\n",
       "      <td>11100.000000</td>\n",
       "      <td>1.619697e+07</td>\n",
       "      <td>407806.000000</td>\n",
       "      <td>147292.000000</td>\n",
       "      <td>38.993560</td>\n",
       "      <td>-76.910020</td>\n",
       "      <td>4.733352e+08</td>\n",
       "      <td>6385 days 20:01:00</td>\n",
       "      <td>5478 days 10:00:00</td>\n",
       "      <td>5.517361e+08</td>\n",
       "      <td>3.000000</td>\n",
       "      <td>7.000000</td>\n",
       "    </tr>\n",
       "  </tbody>\n",
       "</table>\n",
       "</div>"
      ],
      "text/plain": [
       "                true       DISTRICT            PSA           WARD  \\\n",
       "count  255451.000000  255451.000000  255451.000000  255451.000000   \n",
       "mean    18246.000000       3.692434     374.061245       4.421259   \n",
       "std     10534.642303       1.950673     194.503544       2.339243   \n",
       "min         0.000000       0.000000     101.000000       1.000000   \n",
       "25%      9123.000000       2.000000     206.000000       2.000000   \n",
       "50%     18246.000000       4.000000     401.000000       5.000000   \n",
       "75%     27369.000000       5.000000     506.000000       6.000000   \n",
       "max     36492.000000       7.000000     708.000000       8.000000   \n",
       "\n",
       "        CENSUS_TRACT           CCN         XBLOCK         YBLOCK  \\\n",
       "count  255451.000000  2.554510e+05  255451.000000  255451.000000   \n",
       "mean     6211.274929  1.511937e+07  399301.346694  137698.576414   \n",
       "std      3141.262453  1.087812e+05    3113.078782    3424.463530   \n",
       "min       100.000000  6.155556e+06  390147.000000  127300.000000   \n",
       "25%      3500.000000  1.505885e+07  397228.000000  136027.000000   \n",
       "50%      7000.000000  1.511063e+07  398878.000000  137622.530000   \n",
       "75%      8904.000000  1.516497e+07  401257.000000  139839.000000   \n",
       "max     11100.000000  1.619697e+07  407806.000000  147292.000000   \n",
       "\n",
       "                 Lat           Long     CRIMETIME       INVESTIGATION_TIME  \\\n",
       "count  255451.000000  255451.000000  2.554510e+05                   255451   \n",
       "mean       38.907140     -77.008062  1.820633e+05   1 days 18:06:48.379141   \n",
       "std         0.030848       0.035893  4.436807e+06  43 days 03:22:28.288025   \n",
       "min        38.813470     -77.113640 -7.740000e+04       -93 days +01:05:00   \n",
       "25%        38.892080     -77.031960  3.600000e+02          0 days 00:15:00   \n",
       "50%        38.906460     -77.012930  3.000000e+03          0 days 01:05:00   \n",
       "75%        38.926420     -76.985510  2.520000e+04          0 days 03:22:00   \n",
       "max        38.993560     -76.910020  4.733352e+08       6385 days 20:01:00   \n",
       "\n",
       "                 CRIMETIME_REP  INVESTIGATION_TIME_MIN      SHIFT_NUM  \\\n",
       "count                   253687            2.554510e+05  255451.000000   \n",
       "mean    2 days 02:55:29.244226            1.516084e+05       1.817965   \n",
       "std    51 days 12:43:00.142051            3.727348e+06       0.727343   \n",
       "min          -1 days +02:30:00           -8.031300e+06       1.000000   \n",
       "25%            0 days 00:06:00            9.000000e+02       1.000000   \n",
       "50%            0 days 00:51:00            3.900000e+03       2.000000   \n",
       "75%            0 days 07:00:00            1.212000e+04       2.000000   \n",
       "max         5478 days 10:00:00            5.517361e+08       3.000000   \n",
       "\n",
       "             ANC_NUM  \n",
       "count  255451.000000  \n",
       "mean        3.068671  \n",
       "std         1.536254  \n",
       "min         1.000000  \n",
       "25%         2.000000  \n",
       "50%         3.000000  \n",
       "75%         4.000000  \n",
       "max         7.000000  "
      ]
     },
     "execution_count": 136,
     "metadata": {},
     "output_type": "execute_result"
    }
   ],
   "source": [
    "dfsql.describe()"
   ]
  },
  {
   "cell_type": "code",
   "execution_count": 137,
   "metadata": {
    "collapsed": false
   },
   "outputs": [
    {
     "name": "stdout",
     "output_type": "stream",
     "text": [
      "<class 'pandas.core.frame.DataFrame'>\n",
      "RangeIndex: 255451 entries, 0 to 255450\n",
      "Data columns (total 33 columns):\n",
      "true                        255451 non-null int64\n",
      "REPORT_DAT                  255451 non-null object\n",
      "SHIFT                       255451 non-null object\n",
      "OFFENSE                     255451 non-null object\n",
      "METHOD                      255451 non-null object\n",
      "BLOCK                       255451 non-null object\n",
      "DISTRICT                    255451 non-null float64\n",
      "PSA                         255451 non-null float64\n",
      "WARD                        255451 non-null int64\n",
      "ANC                         255451 non-null object\n",
      "NEIGHBORHOOD_CLUSTER        255451 non-null object\n",
      "BLOCK_GROUP                 254653 non-null object\n",
      "CENSUS_TRACT                255451 non-null float64\n",
      "VOTING_PRECINCT             255451 non-null object\n",
      "CCN                         255451 non-null int64\n",
      "XBLOCK                      255451 non-null float64\n",
      "YBLOCK                      255451 non-null float64\n",
      "START_DATE                  255451 non-null object\n",
      "END_DATE                    253687 non-null object\n",
      "Lat                         255451 non-null float64\n",
      "Long                        255451 non-null float64\n",
      "REPORT_DAT_FORMAT           255451 non-null datetime64[ns]\n",
      "END_DATE_FORMAT             253687 non-null datetime64[ns]\n",
      "START_DATE_FORMAT           255451 non-null datetime64[ns]\n",
      "CRIMETIME                   255451 non-null float64\n",
      "INVESTIGATION_TIME          255451 non-null timedelta64[ns]\n",
      "CRIMETIME_REP               253687 non-null timedelta64[ns]\n",
      "INVESTIGATION_TIME_MIN      255451 non-null float64\n",
      "SHIFT_NUM                   255451 non-null int64\n",
      "BLOCK_NUM                   255451 non-null object\n",
      "ANC_NUM                     255451 non-null int64\n",
      "NEIGHBORHOOD_CLUSTER_NUM    255451 non-null object\n",
      "VOTING_PRECINCT_NUM         255451 non-null object\n",
      "dtypes: datetime64[ns](3), float64(9), int64(5), object(14), timedelta64[ns](2)\n",
      "memory usage: 64.3+ MB\n"
     ]
    }
   ],
   "source": [
    "dfsql.info()"
   ]
  },
  {
   "cell_type": "code",
   "execution_count": 138,
   "metadata": {
    "collapsed": false
   },
   "outputs": [
    {
     "data": {
      "text/plain": [
       "0            3\n",
       "1            2\n",
       "2            2\n",
       "3            3\n",
       "4            2\n",
       "5            3\n",
       "6            2\n",
       "7            2\n",
       "8            3\n",
       "9            2\n",
       "10           2\n",
       "11           3\n",
       "12           2\n",
       "13           1\n",
       "14           2\n",
       "15           1\n",
       "16           2\n",
       "17           1\n",
       "18           2\n",
       "19           3\n",
       "20           2\n",
       "21           2\n",
       "22           2\n",
       "23           3\n",
       "24           2\n",
       "25           1\n",
       "26           1\n",
       "27           2\n",
       "28           2\n",
       "29           2\n",
       "          ... \n",
       "255421      39\n",
       "255422      37\n",
       "255423      39\n",
       "255424      39\n",
       "255425      39\n",
       "255426      37\n",
       "255427      38\n",
       "255428      34\n",
       "255429      37\n",
       "255430      28\n",
       "255431      37\n",
       "255432      37\n",
       "255433      28\n",
       "255434      39\n",
       "255435      37\n",
       "255436      39\n",
       "255437      38\n",
       "255438      37\n",
       "255439      39\n",
       "255440      38\n",
       "255441      34\n",
       "255442      37\n",
       "255443      39\n",
       "255444      36\n",
       "255445       0\n",
       "255446      36\n",
       "255447      36\n",
       "255448      38\n",
       "255449       0\n",
       "255450      39\n",
       "Name: NEIGHBORHOOD_CLUSTER_NUM, dtype: object"
      ]
     },
     "execution_count": 138,
     "metadata": {},
     "output_type": "execute_result"
    }
   ],
   "source": [
    "dfsql['NEIGHBORHOOD_CLUSTER_NUM']"
   ]
  },
  {
   "cell_type": "code",
   "execution_count": 139,
   "metadata": {
    "collapsed": false
   },
   "outputs": [
    {
     "name": "stdout",
     "output_type": "stream",
     "text": [
      "<class 'pandas.core.frame.DataFrame'>\n",
      "RangeIndex: 255451 entries, 0 to 255450\n",
      "Data columns (total 33 columns):\n",
      "true                        255451 non-null int64\n",
      "REPORT_DAT                  255451 non-null object\n",
      "SHIFT                       255451 non-null object\n",
      "OFFENSE                     255451 non-null object\n",
      "METHOD                      255451 non-null object\n",
      "BLOCK                       255451 non-null object\n",
      "DISTRICT                    255451 non-null float64\n",
      "PSA                         255451 non-null float64\n",
      "WARD                        255451 non-null int64\n",
      "ANC                         255451 non-null object\n",
      "NEIGHBORHOOD_CLUSTER        255451 non-null object\n",
      "BLOCK_GROUP                 254653 non-null object\n",
      "CENSUS_TRACT                255451 non-null float64\n",
      "VOTING_PRECINCT             255451 non-null object\n",
      "CCN                         255451 non-null int64\n",
      "XBLOCK                      255451 non-null float64\n",
      "YBLOCK                      255451 non-null float64\n",
      "START_DATE                  255451 non-null object\n",
      "END_DATE                    253687 non-null object\n",
      "Lat                         255451 non-null float64\n",
      "Long                        255451 non-null float64\n",
      "REPORT_DAT_FORMAT           255451 non-null datetime64[ns]\n",
      "END_DATE_FORMAT             253687 non-null datetime64[ns]\n",
      "START_DATE_FORMAT           255451 non-null datetime64[ns]\n",
      "CRIMETIME                   255451 non-null float64\n",
      "INVESTIGATION_TIME          255451 non-null timedelta64[ns]\n",
      "CRIMETIME_REP               253687 non-null timedelta64[ns]\n",
      "INVESTIGATION_TIME_MIN      255451 non-null float64\n",
      "SHIFT_NUM                   255451 non-null int64\n",
      "BLOCK_NUM                   255451 non-null object\n",
      "ANC_NUM                     255451 non-null int64\n",
      "NEIGHBORHOOD_CLUSTER_NUM    255451 non-null object\n",
      "VOTING_PRECINCT_NUM         255451 non-null object\n",
      "dtypes: datetime64[ns](3), float64(9), int64(5), object(14), timedelta64[ns](2)\n",
      "memory usage: 64.3+ MB\n"
     ]
    }
   ],
   "source": [
    "dfsql.info()"
   ]
  },
  {
   "cell_type": "code",
   "execution_count": 141,
   "metadata": {
    "collapsed": false
   },
   "outputs": [],
   "source": [
    "dfsql['VOTING_PRECINCT_NUM'] = dfsql['VOTING_PRECINCT_NUM'].astype('float64', raise_on_error = False)"
   ]
  },
  {
   "cell_type": "code",
   "execution_count": 142,
   "metadata": {
    "collapsed": true
   },
   "outputs": [],
   "source": [
    "dfsql['NEIGHBORHOOD_CLUSTER_NUM'] = dfsql['NEIGHBORHOOD_CLUSTER_NUM'].astype('float64', raise_on_error = False)"
   ]
  },
  {
   "cell_type": "code",
   "execution_count": 143,
   "metadata": {
    "collapsed": false
   },
   "outputs": [
    {
     "data": {
      "text/html": [
       "<div>\n",
       "<table border=\"1\" class=\"dataframe\">\n",
       "  <thead>\n",
       "    <tr style=\"text-align: right;\">\n",
       "      <th></th>\n",
       "      <th>true</th>\n",
       "      <th>DISTRICT</th>\n",
       "      <th>PSA</th>\n",
       "      <th>WARD</th>\n",
       "      <th>CENSUS_TRACT</th>\n",
       "      <th>CCN</th>\n",
       "      <th>XBLOCK</th>\n",
       "      <th>YBLOCK</th>\n",
       "      <th>Lat</th>\n",
       "      <th>Long</th>\n",
       "      <th>CRIMETIME</th>\n",
       "      <th>INVESTIGATION_TIME</th>\n",
       "      <th>CRIMETIME_REP</th>\n",
       "      <th>INVESTIGATION_TIME_MIN</th>\n",
       "      <th>SHIFT_NUM</th>\n",
       "      <th>ANC_NUM</th>\n",
       "      <th>NEIGHBORHOOD_CLUSTER_NUM</th>\n",
       "      <th>VOTING_PRECINCT_NUM</th>\n",
       "    </tr>\n",
       "  </thead>\n",
       "  <tbody>\n",
       "    <tr>\n",
       "      <th>count</th>\n",
       "      <td>255451.000000</td>\n",
       "      <td>255451.000000</td>\n",
       "      <td>255451.000000</td>\n",
       "      <td>255451.000000</td>\n",
       "      <td>255451.000000</td>\n",
       "      <td>2.554510e+05</td>\n",
       "      <td>255451.000000</td>\n",
       "      <td>255451.000000</td>\n",
       "      <td>255451.000000</td>\n",
       "      <td>255451.000000</td>\n",
       "      <td>2.554510e+05</td>\n",
       "      <td>255451</td>\n",
       "      <td>253687</td>\n",
       "      <td>2.554510e+05</td>\n",
       "      <td>255451.000000</td>\n",
       "      <td>255451.000000</td>\n",
       "      <td>255451.000000</td>\n",
       "      <td>255451.000000</td>\n",
       "    </tr>\n",
       "    <tr>\n",
       "      <th>mean</th>\n",
       "      <td>18246.000000</td>\n",
       "      <td>3.692434</td>\n",
       "      <td>374.061245</td>\n",
       "      <td>4.421259</td>\n",
       "      <td>6211.274929</td>\n",
       "      <td>1.511937e+07</td>\n",
       "      <td>399301.346694</td>\n",
       "      <td>137698.576414</td>\n",
       "      <td>38.907140</td>\n",
       "      <td>-77.008062</td>\n",
       "      <td>1.820633e+05</td>\n",
       "      <td>1 days 18:06:48.379141</td>\n",
       "      <td>2 days 02:55:29.244226</td>\n",
       "      <td>1.516084e+05</td>\n",
       "      <td>1.817965</td>\n",
       "      <td>3.068671</td>\n",
       "      <td>17.584331</td>\n",
       "      <td>70.066479</td>\n",
       "    </tr>\n",
       "    <tr>\n",
       "      <th>std</th>\n",
       "      <td>10534.642303</td>\n",
       "      <td>1.950673</td>\n",
       "      <td>194.503544</td>\n",
       "      <td>2.339243</td>\n",
       "      <td>3141.262453</td>\n",
       "      <td>1.087812e+05</td>\n",
       "      <td>3113.078782</td>\n",
       "      <td>3424.463530</td>\n",
       "      <td>0.030848</td>\n",
       "      <td>0.035893</td>\n",
       "      <td>4.436807e+06</td>\n",
       "      <td>43 days 03:22:28.288025</td>\n",
       "      <td>51 days 12:43:00.142051</td>\n",
       "      <td>3.727348e+06</td>\n",
       "      <td>0.727343</td>\n",
       "      <td>1.536254</td>\n",
       "      <td>11.862353</td>\n",
       "      <td>41.974490</td>\n",
       "    </tr>\n",
       "    <tr>\n",
       "      <th>min</th>\n",
       "      <td>0.000000</td>\n",
       "      <td>0.000000</td>\n",
       "      <td>101.000000</td>\n",
       "      <td>1.000000</td>\n",
       "      <td>100.000000</td>\n",
       "      <td>6.155556e+06</td>\n",
       "      <td>390147.000000</td>\n",
       "      <td>127300.000000</td>\n",
       "      <td>38.813470</td>\n",
       "      <td>-77.113640</td>\n",
       "      <td>-7.740000e+04</td>\n",
       "      <td>-93 days +01:05:00</td>\n",
       "      <td>-1 days +02:30:00</td>\n",
       "      <td>-8.031300e+06</td>\n",
       "      <td>1.000000</td>\n",
       "      <td>1.000000</td>\n",
       "      <td>0.000000</td>\n",
       "      <td>0.000000</td>\n",
       "    </tr>\n",
       "    <tr>\n",
       "      <th>25%</th>\n",
       "      <td>9123.000000</td>\n",
       "      <td>2.000000</td>\n",
       "      <td>206.000000</td>\n",
       "      <td>2.000000</td>\n",
       "      <td>3500.000000</td>\n",
       "      <td>1.505885e+07</td>\n",
       "      <td>397228.000000</td>\n",
       "      <td>136027.000000</td>\n",
       "      <td>38.892080</td>\n",
       "      <td>-77.031960</td>\n",
       "      <td>3.600000e+02</td>\n",
       "      <td>0 days 00:15:00</td>\n",
       "      <td>0 days 00:06:00</td>\n",
       "      <td>9.000000e+02</td>\n",
       "      <td>1.000000</td>\n",
       "      <td>2.000000</td>\n",
       "      <td>6.000000</td>\n",
       "      <td>33.000000</td>\n",
       "    </tr>\n",
       "    <tr>\n",
       "      <th>50%</th>\n",
       "      <td>18246.000000</td>\n",
       "      <td>4.000000</td>\n",
       "      <td>401.000000</td>\n",
       "      <td>5.000000</td>\n",
       "      <td>7000.000000</td>\n",
       "      <td>1.511063e+07</td>\n",
       "      <td>398878.000000</td>\n",
       "      <td>137622.530000</td>\n",
       "      <td>38.906460</td>\n",
       "      <td>-77.012930</td>\n",
       "      <td>3.000000e+03</td>\n",
       "      <td>0 days 01:05:00</td>\n",
       "      <td>0 days 00:51:00</td>\n",
       "      <td>3.900000e+03</td>\n",
       "      <td>2.000000</td>\n",
       "      <td>3.000000</td>\n",
       "      <td>18.000000</td>\n",
       "      <td>72.000000</td>\n",
       "    </tr>\n",
       "    <tr>\n",
       "      <th>75%</th>\n",
       "      <td>27369.000000</td>\n",
       "      <td>5.000000</td>\n",
       "      <td>506.000000</td>\n",
       "      <td>6.000000</td>\n",
       "      <td>8904.000000</td>\n",
       "      <td>1.516497e+07</td>\n",
       "      <td>401257.000000</td>\n",
       "      <td>139839.000000</td>\n",
       "      <td>38.926420</td>\n",
       "      <td>-76.985510</td>\n",
       "      <td>2.520000e+04</td>\n",
       "      <td>0 days 03:22:00</td>\n",
       "      <td>0 days 07:00:00</td>\n",
       "      <td>1.212000e+04</td>\n",
       "      <td>2.000000</td>\n",
       "      <td>4.000000</td>\n",
       "      <td>26.000000</td>\n",
       "      <td>106.000000</td>\n",
       "    </tr>\n",
       "    <tr>\n",
       "      <th>max</th>\n",
       "      <td>36492.000000</td>\n",
       "      <td>7.000000</td>\n",
       "      <td>708.000000</td>\n",
       "      <td>8.000000</td>\n",
       "      <td>11100.000000</td>\n",
       "      <td>1.619697e+07</td>\n",
       "      <td>407806.000000</td>\n",
       "      <td>147292.000000</td>\n",
       "      <td>38.993560</td>\n",
       "      <td>-76.910020</td>\n",
       "      <td>4.733352e+08</td>\n",
       "      <td>6385 days 20:01:00</td>\n",
       "      <td>5478 days 10:00:00</td>\n",
       "      <td>5.517361e+08</td>\n",
       "      <td>3.000000</td>\n",
       "      <td>7.000000</td>\n",
       "      <td>39.000000</td>\n",
       "      <td>143.000000</td>\n",
       "    </tr>\n",
       "  </tbody>\n",
       "</table>\n",
       "</div>"
      ],
      "text/plain": [
       "                true       DISTRICT            PSA           WARD  \\\n",
       "count  255451.000000  255451.000000  255451.000000  255451.000000   \n",
       "mean    18246.000000       3.692434     374.061245       4.421259   \n",
       "std     10534.642303       1.950673     194.503544       2.339243   \n",
       "min         0.000000       0.000000     101.000000       1.000000   \n",
       "25%      9123.000000       2.000000     206.000000       2.000000   \n",
       "50%     18246.000000       4.000000     401.000000       5.000000   \n",
       "75%     27369.000000       5.000000     506.000000       6.000000   \n",
       "max     36492.000000       7.000000     708.000000       8.000000   \n",
       "\n",
       "        CENSUS_TRACT           CCN         XBLOCK         YBLOCK  \\\n",
       "count  255451.000000  2.554510e+05  255451.000000  255451.000000   \n",
       "mean     6211.274929  1.511937e+07  399301.346694  137698.576414   \n",
       "std      3141.262453  1.087812e+05    3113.078782    3424.463530   \n",
       "min       100.000000  6.155556e+06  390147.000000  127300.000000   \n",
       "25%      3500.000000  1.505885e+07  397228.000000  136027.000000   \n",
       "50%      7000.000000  1.511063e+07  398878.000000  137622.530000   \n",
       "75%      8904.000000  1.516497e+07  401257.000000  139839.000000   \n",
       "max     11100.000000  1.619697e+07  407806.000000  147292.000000   \n",
       "\n",
       "                 Lat           Long     CRIMETIME       INVESTIGATION_TIME  \\\n",
       "count  255451.000000  255451.000000  2.554510e+05                   255451   \n",
       "mean       38.907140     -77.008062  1.820633e+05   1 days 18:06:48.379141   \n",
       "std         0.030848       0.035893  4.436807e+06  43 days 03:22:28.288025   \n",
       "min        38.813470     -77.113640 -7.740000e+04       -93 days +01:05:00   \n",
       "25%        38.892080     -77.031960  3.600000e+02          0 days 00:15:00   \n",
       "50%        38.906460     -77.012930  3.000000e+03          0 days 01:05:00   \n",
       "75%        38.926420     -76.985510  2.520000e+04          0 days 03:22:00   \n",
       "max        38.993560     -76.910020  4.733352e+08       6385 days 20:01:00   \n",
       "\n",
       "                 CRIMETIME_REP  INVESTIGATION_TIME_MIN      SHIFT_NUM  \\\n",
       "count                   253687            2.554510e+05  255451.000000   \n",
       "mean    2 days 02:55:29.244226            1.516084e+05       1.817965   \n",
       "std    51 days 12:43:00.142051            3.727348e+06       0.727343   \n",
       "min          -1 days +02:30:00           -8.031300e+06       1.000000   \n",
       "25%            0 days 00:06:00            9.000000e+02       1.000000   \n",
       "50%            0 days 00:51:00            3.900000e+03       2.000000   \n",
       "75%            0 days 07:00:00            1.212000e+04       2.000000   \n",
       "max         5478 days 10:00:00            5.517361e+08       3.000000   \n",
       "\n",
       "             ANC_NUM  NEIGHBORHOOD_CLUSTER_NUM  VOTING_PRECINCT_NUM  \n",
       "count  255451.000000             255451.000000        255451.000000  \n",
       "mean        3.068671                 17.584331            70.066479  \n",
       "std         1.536254                 11.862353            41.974490  \n",
       "min         1.000000                  0.000000             0.000000  \n",
       "25%         2.000000                  6.000000            33.000000  \n",
       "50%         3.000000                 18.000000            72.000000  \n",
       "75%         4.000000                 26.000000           106.000000  \n",
       "max         7.000000                 39.000000           143.000000  "
      ]
     },
     "execution_count": 143,
     "metadata": {},
     "output_type": "execute_result"
    }
   ],
   "source": [
    "dfsql.describe()"
   ]
  },
  {
   "cell_type": "code",
   "execution_count": 157,
   "metadata": {
    "collapsed": true
   },
   "outputs": [],
   "source": [
    "dfsql.to_csv('/Users/muraliparthasarathy/Documents/DataMining/lab1/MSDS7331_Project_DC/data/MuraliDataClean.csv')"
   ]
  },
  {
   "cell_type": "code",
   "execution_count": 159,
   "metadata": {
    "collapsed": true
   },
   "outputs": [],
   "source": [
    "con = sl.connect('/Users/muraliparthasarathy/Documents/DataMining/dcCrimeDatacleanedv1.db');\n",
    "dfsql.to_sql('dcCrimeDatacleanv2',con);"
   ]
  },
  {
   "cell_type": "code",
   "execution_count": 146,
   "metadata": {
    "collapsed": false
   },
   "outputs": [
    {
     "name": "stdout",
     "output_type": "stream",
     "text": [
      "<class 'pandas.core.frame.DataFrame'>\n",
      "RangeIndex: 255451 entries, 0 to 255450\n",
      "Data columns (total 33 columns):\n",
      "true                        255451 non-null int64\n",
      "REPORT_DAT                  255451 non-null object\n",
      "SHIFT                       255451 non-null object\n",
      "OFFENSE                     255451 non-null object\n",
      "METHOD                      255451 non-null object\n",
      "BLOCK                       255451 non-null object\n",
      "DISTRICT                    255451 non-null float64\n",
      "PSA                         255451 non-null float64\n",
      "WARD                        255451 non-null int64\n",
      "ANC                         255451 non-null object\n",
      "NEIGHBORHOOD_CLUSTER        255451 non-null object\n",
      "BLOCK_GROUP                 254653 non-null object\n",
      "CENSUS_TRACT                255451 non-null float64\n",
      "VOTING_PRECINCT             255451 non-null object\n",
      "CCN                         255451 non-null int64\n",
      "XBLOCK                      255451 non-null float64\n",
      "YBLOCK                      255451 non-null float64\n",
      "START_DATE                  255451 non-null object\n",
      "END_DATE                    253687 non-null object\n",
      "Lat                         255451 non-null float64\n",
      "Long                        255451 non-null float64\n",
      "REPORT_DAT_FORMAT           255451 non-null datetime64[ns]\n",
      "END_DATE_FORMAT             253687 non-null datetime64[ns]\n",
      "START_DATE_FORMAT           255451 non-null datetime64[ns]\n",
      "CRIMETIME                   255451 non-null float64\n",
      "INVESTIGATION_TIME          255451 non-null timedelta64[ns]\n",
      "CRIMETIME_REP               253687 non-null timedelta64[ns]\n",
      "INVESTIGATION_TIME_MIN      255451 non-null float64\n",
      "SHIFT_NUM                   255451 non-null int64\n",
      "BLOCK_NUM                   255451 non-null object\n",
      "ANC_NUM                     255451 non-null int64\n",
      "NEIGHBORHOOD_CLUSTER_NUM    255451 non-null float64\n",
      "VOTING_PRECINCT_NUM         255451 non-null float64\n",
      "dtypes: datetime64[ns](3), float64(11), int64(5), object(12), timedelta64[ns](2)\n",
      "memory usage: 64.3+ MB\n"
     ]
    }
   ],
   "source": [
    "dfsql.info()"
   ]
  },
  {
   "cell_type": "code",
   "execution_count": 148,
   "metadata": {
    "collapsed": false
   },
   "outputs": [
    {
     "name": "stdout",
     "output_type": "stream",
     "text": [
      "<class 'pandas.core.frame.DataFrame'>\n",
      "RangeIndex: 255451 entries, 0 to 255450\n",
      "Data columns (total 38 columns):\n",
      "true                        255451 non-null int64\n",
      "REPORT_DAT                  255451 non-null object\n",
      "SHIFT                       255451 non-null object\n",
      "OFFENSE                     255451 non-null object\n",
      "METHOD                      255451 non-null object\n",
      "BLOCK                       255451 non-null object\n",
      "DISTRICT                    255451 non-null float64\n",
      "PSA                         255451 non-null float64\n",
      "WARD                        255451 non-null int64\n",
      "ANC                         255451 non-null object\n",
      "NEIGHBORHOOD_CLUSTER        255451 non-null object\n",
      "BLOCK_GROUP                 254653 non-null object\n",
      "CENSUS_TRACT                255451 non-null float64\n",
      "VOTING_PRECINCT             255451 non-null object\n",
      "CCN                         255451 non-null int64\n",
      "XBLOCK                      255451 non-null float64\n",
      "YBLOCK                      255451 non-null float64\n",
      "START_DATE                  255451 non-null object\n",
      "END_DATE                    253687 non-null object\n",
      "Lat                         255451 non-null float64\n",
      "Long                        255451 non-null float64\n",
      "REPORT_DAT_FORMAT           255451 non-null datetime64[ns]\n",
      "END_DATE_FORMAT             253687 non-null datetime64[ns]\n",
      "START_DATE_FORMAT           255451 non-null datetime64[ns]\n",
      "CRIMETIME                   255451 non-null float64\n",
      "INVESTIGATION_TIME          255451 non-null timedelta64[ns]\n",
      "CRIMETIME_REP               253687 non-null timedelta64[ns]\n",
      "INVESTIGATION_TIME_MIN      255451 non-null float64\n",
      "SHIFT_NUM                   255451 non-null int64\n",
      "BLOCK_NUM                   255451 non-null object\n",
      "ANC_NUM                     255451 non-null int64\n",
      "NEIGHBORHOOD_CLUSTER_NUM    255451 non-null float64\n",
      "VOTING_PRECINCT_NUM         255451 non-null float64\n",
      "REPORT_Month                255451 non-null object\n",
      "REPORT_Day                  255451 non-null object\n",
      "REPORT_Year                 255451 non-null object\n",
      "REPORT_Hour                 255451 non-null object\n",
      "REPORT_MINUTES              255451 non-null object\n",
      "dtypes: datetime64[ns](3), float64(11), int64(5), object(17), timedelta64[ns](2)\n",
      "memory usage: 74.1+ MB\n"
     ]
    }
   ],
   "source": [
    "dfsql.info()"
   ]
  },
  {
   "cell_type": "code",
   "execution_count": 152,
   "metadata": {
    "collapsed": false
   },
   "outputs": [],
   "source": [
    "dfsql['REPORT_Month'] = dfsql['REPORT_Month'].astype('float64', raise_on_error = False)"
   ]
  },
  {
   "cell_type": "code",
   "execution_count": 153,
   "metadata": {
    "collapsed": true
   },
   "outputs": [],
   "source": [
    "dfsql['REPORT_Day'] = dfsql['REPORT_Day'].astype('float64', raise_on_error = False)"
   ]
  },
  {
   "cell_type": "code",
   "execution_count": 154,
   "metadata": {
    "collapsed": true
   },
   "outputs": [],
   "source": [
    "dfsql['REPORT_Year'] = dfsql['REPORT_Year'].astype('float64', raise_on_error = False)"
   ]
  },
  {
   "cell_type": "code",
   "execution_count": 155,
   "metadata": {
    "collapsed": true
   },
   "outputs": [],
   "source": [
    "dfsql['REPORT_Hour'] = dfsql['REPORT_Hour'].astype('float64', raise_on_error = False)"
   ]
  },
  {
   "cell_type": "code",
   "execution_count": 156,
   "metadata": {
    "collapsed": true
   },
   "outputs": [],
   "source": [
    "dfsql['REPORT_MINUTES'] = dfsql['REPORT_MINUTES'].astype('float64', raise_on_error = False)"
   ]
  },
  {
   "cell_type": "code",
   "execution_count": 162,
   "metadata": {
    "collapsed": false
   },
   "outputs": [],
   "source": [
    "import seaborn as sns\n",
    "sns.set_style(\"whitegrid\")\n"
   ]
  },
  {
   "cell_type": "code",
   "execution_count": null,
   "metadata": {
    "collapsed": true
   },
   "outputs": [],
   "source": []
  }
 ],
 "metadata": {
  "anaconda-cloud": {},
  "kernelspec": {
   "display_name": "Python [Root]",
   "language": "python",
   "name": "Python [Root]"
  },
  "language_info": {
   "codemirror_mode": {
    "name": "ipython",
    "version": 2
   },
   "file_extension": ".py",
   "mimetype": "text/x-python",
   "name": "python",
   "nbconvert_exporter": "python",
   "pygments_lexer": "ipython2",
   "version": "2.7.12"
  }
 },
 "nbformat": 4,
 "nbformat_minor": 0
}
