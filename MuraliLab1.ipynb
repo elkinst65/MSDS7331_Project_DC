{
 "cells": [
  {
   "cell_type": "code",
   "execution_count": 32,
   "metadata": {
    "collapsed": false
   },
   "outputs": [],
   "source": [
    "# Import Data and format data \n",
    "import pandas as pd\n",
    "import sqlite3 as sl\n",
    "df = pd.read_csv('/Users/muraliparthasarathy/Documents/DataMining/DC_Crime_2015_LL.csv');\n",
    "con = sl.connect('/Users/muraliparthasarathy/Documents/DataMining/dcCrimeData.db');\n",
    "df.to_sql('dcCrimeData',con,schema='None',if_exists='append',index='true',index_label='None');\n",
    "dfsql = pd.read_sql('select * from dcCrimeData',con);\n",
    "dfsql['REPORT_DAT_FORMAT'] =  pd.to_datetime(dfsql['REPORT_DAT'])\n",
    "#dfsql.info()"
   ]
  },
  {
   "cell_type": "code",
   "execution_count": 4,
   "metadata": {
    "collapsed": true
   },
   "outputs": [],
   "source": [
    "# update Reporting Date for day, month, year \n",
    "grades = []\n",
    "for row in dfsql['REPORT_DAT']:\n",
    "    grades.append(row[:2])\n",
    "dfsql['REPORT_Month'] = grades\n",
    "\n",
    "grades = []\n",
    "for row in dfsql['REPORT_DAT']:\n",
    "    grades.append(row[3:5])\n",
    "dfsql['REPORT_Day'] = grades\n",
    "\n",
    "grades = []\n",
    "for row in dfsql['REPORT_DAT']:\n",
    "    grades.append(row[6:11])\n",
    "dfsql['REPORT_Year'] = grades\n",
    "\n",
    "grades = []\n",
    "for row in dfsql['REPORT_DAT']:\n",
    "    grades.append(row[11:13])\n",
    "dfsql['REPORT_Hour'] = grades\n",
    "\n",
    "grades = []\n",
    "for row in dfsql['REPORT_DAT']:\n",
    "    grades.append(row[14:16])\n",
    "dfsql['REPORT_MINUTES'] = grades\n"
   ]
  },
  {
   "cell_type": "code",
   "execution_count": 33,
   "metadata": {
    "collapsed": false
   },
   "outputs": [],
   "source": [
    "#dfsql.info()"
   ]
  },
  {
   "cell_type": "code",
   "execution_count": 4,
   "metadata": {
    "collapsed": false
   },
   "outputs": [
    {
     "data": {
      "text/plain": [
       "array([u'DAY', u'EVENING', u'MIDNIGHT'], dtype=object)"
      ]
     },
     "execution_count": 4,
     "metadata": {},
     "output_type": "execute_result"
    }
   ],
   "source": [
    "dfsql['SHIFT'].unique()"
   ]
  },
  {
   "cell_type": "code",
   "execution_count": 34,
   "metadata": {
    "collapsed": false
   },
   "outputs": [
    {
     "ename": "IndentationError",
     "evalue": "unexpected indent (<ipython-input-34-3140f9760f10>, line 2)",
     "output_type": "error",
     "traceback": [
      "\u001b[0;36m  File \u001b[0;32m\"<ipython-input-34-3140f9760f10>\"\u001b[0;36m, line \u001b[0;32m2\u001b[0m\n\u001b[0;31m    shift_num = []\u001b[0m\n\u001b[0m    ^\u001b[0m\n\u001b[0;31mIndentationError\u001b[0m\u001b[0;31m:\u001b[0m unexpected indent\n"
     ]
    }
   ],
   "source": [
    " #Update Shift\n",
    "    shift_num = []\n",
    "for row in dfsql['SHIFT']:\n",
    "    if row == 'DAY':\n",
    "         shift_num.append(1)\n",
    "    if row == 'EVENING':\n",
    "         shift_num.append(2)\n",
    "    if row == 'MIDNIGHT':\n",
    "         shift_num.append(3)\n",
    "            \n",
    "dfsql['SHIFT_NUM'] = shift_num    \n",
    "\n"
   ]
  },
  {
   "cell_type": "code",
   "execution_count": 7,
   "metadata": {
    "collapsed": false,
    "scrolled": true
   },
   "outputs": [
    {
     "data": {
      "text/plain": [
       "array([u'OTHERS', u'GUN', u'KNIFE'], dtype=object)"
      ]
     },
     "execution_count": 7,
     "metadata": {},
     "output_type": "execute_result"
    }
   ],
   "source": [
    "dfsql['METHOD'].unique()"
   ]
  },
  {
   "cell_type": "code",
   "execution_count": null,
   "metadata": {
    "collapsed": false
   },
   "outputs": [],
   "source": [
    "# Update Method\n",
    "method_num = []\n",
    "for row in dfsql['METHOD']:\n",
    "    if row == 'OTHERS':\n",
    "         method_num.append(1)\n",
    "    if row == 'GUN':\n",
    "         method_num.append(2)\n",
    "    if row == 'KNIFE':\n",
    "         method_num.append(3)\n",
    "            \n",
    "dfsql['METHOD_NUM'] = method_num "
   ]
  },
  {
   "cell_type": "code",
   "execution_count": null,
   "metadata": {
    "collapsed": false
   },
   "outputs": [],
   "source": [
    "#update block \n",
    "block_num = []\n",
    "for row in dfsql['BLOCK']:\n",
    "    block = row[:2]\n",
    "    if block.isdigit():\n",
    "        block_num = block\n",
    "    else:\n",
    "        block_num = -9\n",
    "dfsql['BLOCK_NUM'] = block_num\n",
    "    "
   ]
  },
  {
   "cell_type": "code",
   "execution_count": 12,
   "metadata": {
    "collapsed": false
   },
   "outputs": [
    {
     "data": {
      "text/plain": [
       "array([u'1B', u'1D', u'1A', u'1C', u'6E', u'4C', u'5E', u'2B', u'2D',\n",
       "       u'2F', u'2C', u'2E', u'2A', u'3C', u'3E', u'3B', u'3D', u'3F',\n",
       "       u'3G', u'4A', u'4B', u'4D', u'5A', u'5D', u'5C', u'5B', u'6A',\n",
       "       u'6C', u'6B', u'6D', u'7D', u'7C', u'7E', u'7B', u'7F', u'8A',\n",
       "       u'8B', u'8C', u'8D', u'8E'], dtype=object)"
      ]
     },
     "execution_count": 12,
     "metadata": {},
     "output_type": "execute_result"
    }
   ],
   "source": [
    "dfsql['ANC'].unique()"
   ]
  },
  {
   "cell_type": "code",
   "execution_count": null,
   "metadata": {
    "collapsed": false
   },
   "outputs": [],
   "source": [
    "anc_num = []\n",
    "for row in dfsql['ANC']:\n",
    "    sncblocknum = 0\n",
    "    sncblock = row[1:2]\n",
    "    if sncblock == 'A' :\n",
    "        sncblocknum = 1\n",
    "    if sncblock == 'B' :\n",
    "        sncblocknum = 2\n",
    "    if sncblock == 'C' :\n",
    "        sncblocknum = 3\n",
    "    if sncblock == 'D' :\n",
    "        sncblocknum = 4\n",
    "    if sncblock == 'E' :\n",
    "        sncblocknum = 5\n",
    "    if sncblock == 'F' :\n",
    "        sncblocknum = 6\n",
    "    if sncblock == 'G' :\n",
    "        sncblocknum = 7\n",
    "    anc_num.append(sncblocknum)\n",
    "dfsql['ANC_NUM'] = anc_num"
   ]
  },
  {
   "cell_type": "code",
   "execution_count": 7,
   "metadata": {
    "collapsed": false
   },
   "outputs": [
    {
     "data": {
      "text/plain": [
       "array([u'Cluster 3', u'Cluster 2', u'Cluster 1', u'Cluster 6',\n",
       "       u'Cluster 18', None, u'Cluster 21', u'Cluster 8', u'Cluster 4',\n",
       "       u'Cluster 5', u'Cluster 7', u'Cluster 9', u'Cluster 15',\n",
       "       u'Cluster 14', u'Cluster 11', u'Cluster 13', u'Cluster 12',\n",
       "       u'Cluster 10', u'Cluster 17', u'Cluster 16', u'Cluster 19',\n",
       "       u'Cluster 23', u'Cluster 22', u'Cluster 24', u'Cluster 20',\n",
       "       u'Cluster 25', u'Cluster 26', u'Cluster 27', u'Cluster 33',\n",
       "       u'Cluster 30', u'Cluster 31', u'Cluster 34', u'Cluster 32',\n",
       "       u'Cluster 35', u'Cluster 29', u'Cluster 36', u'Cluster 39',\n",
       "       u'Cluster 37', u'Cluster 38', u'Cluster 28'], dtype=object)"
      ]
     },
     "execution_count": 7,
     "metadata": {},
     "output_type": "execute_result"
    }
   ],
   "source": [
    "dfsql['NEIGHBORHOOD_CLUSTER'].unique()\n"
   ]
  },
  {
   "cell_type": "code",
   "execution_count": 17,
   "metadata": {
    "collapsed": false
   },
   "outputs": [
    {
     "ename": "AttributeError",
     "evalue": "'NoneType' object has no attribute 'replace'",
     "output_type": "error",
     "traceback": [
      "\u001b[0;31m---------------------------------------------------------------------------\u001b[0m",
      "\u001b[0;31mAttributeError\u001b[0m                            Traceback (most recent call last)",
      "\u001b[0;32m<ipython-input-17-387de2454b5d>\u001b[0m in \u001b[0;36m<module>\u001b[0;34m()\u001b[0m\n\u001b[1;32m      5\u001b[0m         \u001b[0mstr\u001b[0m \u001b[0;34m=\u001b[0m \u001b[0;34m'0'\u001b[0m\u001b[0;34m\u001b[0m\u001b[0m\n\u001b[1;32m      6\u001b[0m     \u001b[0;32melse\u001b[0m\u001b[0;34m:\u001b[0m\u001b[0;34m\u001b[0m\u001b[0m\n\u001b[0;32m----> 7\u001b[0;31m         \u001b[0mstr\u001b[0m \u001b[0;34m=\u001b[0m \u001b[0mrow\u001b[0m\u001b[0;34m.\u001b[0m\u001b[0mreplace\u001b[0m\u001b[0;34m(\u001b[0m\u001b[0;34m'Cluster'\u001b[0m\u001b[0;34m,\u001b[0m\u001b[0;34m' '\u001b[0m\u001b[0;34m)\u001b[0m\u001b[0;34m\u001b[0m\u001b[0m\n\u001b[0m\u001b[1;32m      8\u001b[0m \u001b[0;34m\u001b[0m\u001b[0m\n\u001b[1;32m      9\u001b[0m \u001b[0;34m\u001b[0m\u001b[0m\n",
      "\u001b[0;31mAttributeError\u001b[0m: 'NoneType' object has no attribute 'replace'"
     ]
    }
   ],
   "source": [
    "neighborhood_clus = []\n",
    "for row in dfsql['NEIGHBORHOOD_CLUSTER']:\n",
    "     \n",
    "    if row == 'None':\n",
    "        str = '0'\n",
    "    else:\n",
    "        str = row.replace('Cluster',' ')\n",
    "   \n",
    "    \n",
    "    neighborhood_clus.append(str)\n",
    "dfsql['NEIGHBORHOOD_CLUSTER_NUM'] = neighborhood_clus"
   ]
  },
  {
   "cell_type": "code",
   "execution_count": 18,
   "metadata": {
    "collapsed": false
   },
   "outputs": [
    {
     "data": {
      "text/plain": [
       "0          Cluster 3\n",
       "1          Cluster 2\n",
       "2          Cluster 2\n",
       "3          Cluster 3\n",
       "4          Cluster 2\n",
       "5          Cluster 3\n",
       "6          Cluster 2\n",
       "7          Cluster 2\n",
       "8          Cluster 3\n",
       "9          Cluster 2\n",
       "10         Cluster 2\n",
       "11         Cluster 3\n",
       "12         Cluster 2\n",
       "13         Cluster 1\n",
       "14         Cluster 2\n",
       "15         Cluster 1\n",
       "16         Cluster 2\n",
       "17         Cluster 1\n",
       "18         Cluster 2\n",
       "19         Cluster 3\n",
       "20         Cluster 2\n",
       "21         Cluster 2\n",
       "22         Cluster 2\n",
       "23         Cluster 3\n",
       "24         Cluster 2\n",
       "25         Cluster 1\n",
       "26         Cluster 1\n",
       "27         Cluster 2\n",
       "28         Cluster 2\n",
       "29         Cluster 2\n",
       "             ...    \n",
       "218928    Cluster 39\n",
       "218929    Cluster 37\n",
       "218930    Cluster 39\n",
       "218931    Cluster 39\n",
       "218932    Cluster 39\n",
       "218933    Cluster 37\n",
       "218934    Cluster 38\n",
       "218935    Cluster 34\n",
       "218936    Cluster 37\n",
       "218937    Cluster 28\n",
       "218938    Cluster 37\n",
       "218939    Cluster 37\n",
       "218940    Cluster 28\n",
       "218941    Cluster 39\n",
       "218942    Cluster 37\n",
       "218943    Cluster 39\n",
       "218944    Cluster 38\n",
       "218945    Cluster 37\n",
       "218946    Cluster 39\n",
       "218947    Cluster 38\n",
       "218948    Cluster 34\n",
       "218949    Cluster 37\n",
       "218950    Cluster 39\n",
       "218951    Cluster 36\n",
       "218952      Cluster0\n",
       "218953    Cluster 36\n",
       "218954    Cluster 36\n",
       "218955    Cluster 38\n",
       "218956      Cluster0\n",
       "218957    Cluster 39\n",
       "Name: NEIGHBORHOOD_CLUSTER, dtype: object"
      ]
     },
     "execution_count": 18,
     "metadata": {},
     "output_type": "execute_result"
    }
   ],
   "source": [
    "dfsql['NEIGHBORHOOD_CLUSTER'].fillna(\"Cluster0\")"
   ]
  },
  {
   "cell_type": "code",
   "execution_count": 19,
   "metadata": {
    "collapsed": false
   },
   "outputs": [
    {
     "data": {
      "text/plain": [
       "array([u'Cluster 3', u'Cluster 2', u'Cluster 1', u'Cluster 6',\n",
       "       u'Cluster 18', None, u'Cluster 21', u'Cluster 8', u'Cluster 4',\n",
       "       u'Cluster 5', u'Cluster 7', u'Cluster 9', u'Cluster 15',\n",
       "       u'Cluster 14', u'Cluster 11', u'Cluster 13', u'Cluster 12',\n",
       "       u'Cluster 10', u'Cluster 17', u'Cluster 16', u'Cluster 19',\n",
       "       u'Cluster 23', u'Cluster 22', u'Cluster 24', u'Cluster 20',\n",
       "       u'Cluster 25', u'Cluster 26', u'Cluster 27', u'Cluster 33',\n",
       "       u'Cluster 30', u'Cluster 31', u'Cluster 34', u'Cluster 32',\n",
       "       u'Cluster 35', u'Cluster 29', u'Cluster 36', u'Cluster 39',\n",
       "       u'Cluster 37', u'Cluster 38', u'Cluster 28'], dtype=object)"
      ]
     },
     "execution_count": 19,
     "metadata": {},
     "output_type": "execute_result"
    }
   ],
   "source": [
    "dfsql['NEIGHBORHOOD_CLUSTER'].unique()"
   ]
  },
  {
   "cell_type": "code",
   "execution_count": null,
   "metadata": {
    "collapsed": false
   },
   "outputs": [],
   "source": [
    "#dfsql['NEIGHBORHOOD_CLUSTER'].isnull()"
   ]
  },
  {
   "cell_type": "code",
   "execution_count": 25,
   "metadata": {
    "collapsed": true
   },
   "outputs": [],
   "source": [
    "dfsql['NEIGHBORHOOD_CLUSTER']=dfsql['NEIGHBORHOOD_CLUSTER'].fillna('Cluster 0')"
   ]
  },
  {
   "cell_type": "code",
   "execution_count": 27,
   "metadata": {
    "collapsed": false
   },
   "outputs": [],
   "source": [
    "neighborhood_clus = []\n",
    "for row in dfsql['NEIGHBORHOOD_CLUSTER']:\n",
    "    str = row.replace('Cluster',' ')\n",
    "    neighborhood_clus.append(str)\n",
    "dfsql['NEIGHBORHOOD_CLUSTER_NUM'] = neighborhood_clus"
   ]
  },
  {
   "cell_type": "code",
   "execution_count": 28,
   "metadata": {
    "collapsed": true
   },
   "outputs": [],
   "source": [
    "dfsql['VOTING_PRECINCT'] = dfsql['VOTING_PRECINCT'].fillna('Precinct 0')"
   ]
  },
  {
   "cell_type": "code",
   "execution_count": 29,
   "metadata": {
    "collapsed": true
   },
   "outputs": [],
   "source": [
    "precint_clus = []\n",
    "for row in dfsql['NEIGHBORHOOD_CLUSTER']:\n",
    "    str = row.replace('Precinct',' ')\n",
    "    precint_clus.append(str)\n",
    "dfsql['VOTING_PRECINCT_NUM'] = precint_clus"
   ]
  },
  {
   "cell_type": "code",
   "execution_count": 30,
   "metadata": {
    "collapsed": true
   },
   "outputs": [],
   "source": [
    "dfsql['START_DATE_FORMAT'] =  pd.to_datetime(dfsql['START_DATE'])"
   ]
  },
  {
   "cell_type": "code",
   "execution_count": 31,
   "metadata": {
    "collapsed": true
   },
   "outputs": [],
   "source": [
    "dfsql['END_DATE_FORMAT'] =  pd.to_datetime(dfsql['END_DATE'])"
   ]
  },
  {
   "cell_type": "code",
   "execution_count": 36,
   "metadata": {
    "collapsed": false
   },
   "outputs": [],
   "source": [
    "#df['CRIMETIME'] = df['END_DATE_FORMAT'] - df['START_DATE_FORMAT'] "
   ]
  },
  {
   "cell_type": "code",
   "execution_count": 39,
   "metadata": {
    "collapsed": false
   },
   "outputs": [],
   "source": [
    "#dfsql['END_DATE_FORMAT'].describe()"
   ]
  },
  {
   "cell_type": "code",
   "execution_count": 41,
   "metadata": {
    "collapsed": false
   },
   "outputs": [],
   "source": [
    "#dfsql['CRIMETIME'] = dfsql['END_DATE_FORMAT'] - dfsql['START_DATE_FORMAT'] "
   ]
  },
  {
   "cell_type": "code",
   "execution_count": 44,
   "metadata": {
    "collapsed": false
   },
   "outputs": [
    {
     "name": "stdout",
     "output_type": "stream",
     "text": [
      "<class 'pandas.core.frame.DataFrame'>\n",
      "RangeIndex: 255451 entries, 0 to 255450\n",
      "Data columns (total 22 columns):\n",
      "true                    255451 non-null int64\n",
      "REPORT_DAT              255451 non-null object\n",
      "SHIFT                   255451 non-null object\n",
      "OFFENSE                 255451 non-null object\n",
      "METHOD                  255451 non-null object\n",
      "BLOCK                   255451 non-null object\n",
      "DISTRICT                255122 non-null float64\n",
      "PSA                     255115 non-null float64\n",
      "WARD                    255451 non-null int64\n",
      "ANC                     255451 non-null object\n",
      "NEIGHBORHOOD_CLUSTER    252532 non-null object\n",
      "BLOCK_GROUP             254653 non-null object\n",
      "CENSUS_TRACT            254653 non-null float64\n",
      "VOTING_PRECINCT         255360 non-null object\n",
      "CCN                     255451 non-null int64\n",
      "XBLOCK                  255451 non-null float64\n",
      "YBLOCK                  255451 non-null float64\n",
      "START_DATE              255451 non-null object\n",
      "END_DATE                253687 non-null object\n",
      "Lat                     255451 non-null float64\n",
      "Long                    255451 non-null float64\n",
      "REPORT_DAT_FORMAT       255451 non-null datetime64[ns]\n",
      "dtypes: datetime64[ns](1), float64(7), int64(3), object(11)\n",
      "memory usage: 42.9+ MB\n"
     ]
    }
   ],
   "source": [
    "dfsql.info()"
   ]
  },
  {
   "cell_type": "code",
   "execution_count": 45,
   "metadata": {
    "collapsed": true
   },
   "outputs": [],
   "source": [
    "dfsql['END_DATE_FORMAT'] =  pd.to_datetime(dfsql['END_DATE'])"
   ]
  },
  {
   "cell_type": "code",
   "execution_count": 48,
   "metadata": {
    "collapsed": false
   },
   "outputs": [
    {
     "name": "stdout",
     "output_type": "stream",
     "text": [
      "<class 'pandas.core.frame.DataFrame'>\n",
      "RangeIndex: 255451 entries, 0 to 255450\n",
      "Data columns (total 23 columns):\n",
      "true                    255451 non-null int64\n",
      "REPORT_DAT              255451 non-null object\n",
      "SHIFT                   255451 non-null object\n",
      "OFFENSE                 255451 non-null object\n",
      "METHOD                  255451 non-null object\n",
      "BLOCK                   255451 non-null object\n",
      "DISTRICT                255122 non-null float64\n",
      "PSA                     255115 non-null float64\n",
      "WARD                    255451 non-null int64\n",
      "ANC                     255451 non-null object\n",
      "NEIGHBORHOOD_CLUSTER    252532 non-null object\n",
      "BLOCK_GROUP             254653 non-null object\n",
      "CENSUS_TRACT            254653 non-null float64\n",
      "VOTING_PRECINCT         255360 non-null object\n",
      "CCN                     255451 non-null int64\n",
      "XBLOCK                  255451 non-null float64\n",
      "YBLOCK                  255451 non-null float64\n",
      "START_DATE              255451 non-null object\n",
      "END_DATE                253687 non-null object\n",
      "Lat                     255451 non-null float64\n",
      "Long                    255451 non-null float64\n",
      "REPORT_DAT_FORMAT       255451 non-null datetime64[ns]\n",
      "END_DATE_FORMAT         253687 non-null datetime64[ns]\n",
      "dtypes: datetime64[ns](2), float64(7), int64(3), object(11)\n",
      "memory usage: 44.8+ MB\n"
     ]
    }
   ],
   "source": [
    "dfsql.info()"
   ]
  },
  {
   "cell_type": "code",
   "execution_count": 49,
   "metadata": {
    "collapsed": true
   },
   "outputs": [],
   "source": [
    "dfsql['START_DATE_FORMAT'] =  pd.to_datetime(dfsql['START_DATE'])"
   ]
  },
  {
   "cell_type": "code",
   "execution_count": 50,
   "metadata": {
    "collapsed": false
   },
   "outputs": [
    {
     "name": "stdout",
     "output_type": "stream",
     "text": [
      "<class 'pandas.core.frame.DataFrame'>\n",
      "RangeIndex: 255451 entries, 0 to 255450\n",
      "Data columns (total 24 columns):\n",
      "true                    255451 non-null int64\n",
      "REPORT_DAT              255451 non-null object\n",
      "SHIFT                   255451 non-null object\n",
      "OFFENSE                 255451 non-null object\n",
      "METHOD                  255451 non-null object\n",
      "BLOCK                   255451 non-null object\n",
      "DISTRICT                255122 non-null float64\n",
      "PSA                     255115 non-null float64\n",
      "WARD                    255451 non-null int64\n",
      "ANC                     255451 non-null object\n",
      "NEIGHBORHOOD_CLUSTER    252532 non-null object\n",
      "BLOCK_GROUP             254653 non-null object\n",
      "CENSUS_TRACT            254653 non-null float64\n",
      "VOTING_PRECINCT         255360 non-null object\n",
      "CCN                     255451 non-null int64\n",
      "XBLOCK                  255451 non-null float64\n",
      "YBLOCK                  255451 non-null float64\n",
      "START_DATE              255451 non-null object\n",
      "END_DATE                253687 non-null object\n",
      "Lat                     255451 non-null float64\n",
      "Long                    255451 non-null float64\n",
      "REPORT_DAT_FORMAT       255451 non-null datetime64[ns]\n",
      "END_DATE_FORMAT         253687 non-null datetime64[ns]\n",
      "START_DATE_FORMAT       255451 non-null datetime64[ns]\n",
      "dtypes: datetime64[ns](3), float64(7), int64(3), object(11)\n",
      "memory usage: 46.8+ MB\n"
     ]
    }
   ],
   "source": [
    "dfsql.info()"
   ]
  },
  {
   "cell_type": "code",
   "execution_count": 51,
   "metadata": {
    "collapsed": true
   },
   "outputs": [],
   "source": [
    "dfsql['CRIMETIME'] = dfsql['END_DATE_FORMAT'] - dfsql['START_DATE_FORMAT'] "
   ]
  },
  {
   "cell_type": "code",
   "execution_count": 52,
   "metadata": {
    "collapsed": false
   },
   "outputs": [
    {
     "name": "stdout",
     "output_type": "stream",
     "text": [
      "<class 'pandas.core.frame.DataFrame'>\n",
      "RangeIndex: 255451 entries, 0 to 255450\n",
      "Data columns (total 25 columns):\n",
      "true                    255451 non-null int64\n",
      "REPORT_DAT              255451 non-null object\n",
      "SHIFT                   255451 non-null object\n",
      "OFFENSE                 255451 non-null object\n",
      "METHOD                  255451 non-null object\n",
      "BLOCK                   255451 non-null object\n",
      "DISTRICT                255122 non-null float64\n",
      "PSA                     255115 non-null float64\n",
      "WARD                    255451 non-null int64\n",
      "ANC                     255451 non-null object\n",
      "NEIGHBORHOOD_CLUSTER    252532 non-null object\n",
      "BLOCK_GROUP             254653 non-null object\n",
      "CENSUS_TRACT            254653 non-null float64\n",
      "VOTING_PRECINCT         255360 non-null object\n",
      "CCN                     255451 non-null int64\n",
      "XBLOCK                  255451 non-null float64\n",
      "YBLOCK                  255451 non-null float64\n",
      "START_DATE              255451 non-null object\n",
      "END_DATE                253687 non-null object\n",
      "Lat                     255451 non-null float64\n",
      "Long                    255451 non-null float64\n",
      "REPORT_DAT_FORMAT       255451 non-null datetime64[ns]\n",
      "END_DATE_FORMAT         253687 non-null datetime64[ns]\n",
      "START_DATE_FORMAT       255451 non-null datetime64[ns]\n",
      "CRIMETIME               253687 non-null timedelta64[ns]\n",
      "dtypes: datetime64[ns](3), float64(7), int64(3), object(11), timedelta64[ns](1)\n",
      "memory usage: 48.7+ MB\n"
     ]
    }
   ],
   "source": [
    "dfsql.info()"
   ]
  },
  {
   "cell_type": "code",
   "execution_count": 53,
   "metadata": {
    "collapsed": false
   },
   "outputs": [
    {
     "data": {
      "text/plain": [
       "0         31 days 00:03:00\n",
       "1          2 days 01:08:00\n",
       "2          0 days 00:10:00\n",
       "3         16 days 18:30:00\n",
       "4          0 days 19:59:00\n",
       "5          0 days 21:00:00\n",
       "6          0 days 00:19:00\n",
       "7          1 days 00:30:00\n",
       "8          0 days 00:01:00\n",
       "9          0 days 03:30:00\n",
       "10         0 days 09:30:00\n",
       "11         0 days 21:00:00\n",
       "12         0 days 00:05:00\n",
       "13         0 days 00:01:00\n",
       "14         0 days 00:02:00\n",
       "15         0 days 00:01:00\n",
       "16         0 days 00:11:00\n",
       "17        29 days 05:08:00\n",
       "18         0 days 00:03:00\n",
       "19         0 days 00:02:00\n",
       "20         0 days 10:15:00\n",
       "21         0 days 01:28:00\n",
       "22         0 days 00:15:00\n",
       "23         0 days 00:05:00\n",
       "24         0 days 00:03:00\n",
       "25         0 days 00:06:00\n",
       "26         0 days 00:15:00\n",
       "27         0 days 04:00:00\n",
       "28         0 days 03:30:00\n",
       "29         0 days 01:10:00\n",
       "                ...       \n",
       "255421     0 days 00:01:00\n",
       "255422     0 days 02:50:00\n",
       "255423     0 days 00:20:00\n",
       "255424     0 days 00:03:00\n",
       "255425     0 days 00:03:00\n",
       "255426     0 days 02:21:00\n",
       "255427     0 days 12:15:00\n",
       "255428     0 days 02:04:00\n",
       "255429     0 days 01:00:00\n",
       "255430     0 days 20:20:00\n",
       "255431     0 days 00:46:00\n",
       "255432     0 days 00:05:00\n",
       "255433     0 days 03:00:00\n",
       "255434     0 days 01:32:00\n",
       "255435     0 days 00:02:00\n",
       "255436     0 days 00:40:00\n",
       "255437     0 days 00:02:00\n",
       "255438                 NaT\n",
       "255439     0 days 00:12:00\n",
       "255440     0 days 01:04:00\n",
       "255441     2 days 00:00:00\n",
       "255442     0 days 00:16:00\n",
       "255443     0 days 00:02:00\n",
       "255444     0 days 08:00:00\n",
       "255445   615 days 09:41:00\n",
       "255446     0 days 00:33:00\n",
       "255447     0 days 09:00:00\n",
       "255448     0 days 00:07:00\n",
       "255449     0 days 00:15:00\n",
       "255450     0 days 00:10:00\n",
       "Name: CRIMETIME, dtype: timedelta64[ns]"
      ]
     },
     "execution_count": 53,
     "metadata": {},
     "output_type": "execute_result"
    }
   ],
   "source": [
    "dfsql['CRIMETIME']"
   ]
  },
  {
   "cell_type": "code",
   "execution_count": 54,
   "metadata": {
    "collapsed": true
   },
   "outputs": [],
   "source": [
    "dfsql['INVESTIGATION_TIME'] = dfsql['END_DATE_FORMAT'] - dfsql['REPORT_DAT_FORMAT'] "
   ]
  },
  {
   "cell_type": "code",
   "execution_count": 55,
   "metadata": {
    "collapsed": false
   },
   "outputs": [
    {
     "data": {
      "text/plain": [
       "0        -185 days +23:58:00\n",
       "1         -73 days +02:08:00\n",
       "2          -1 days +22:00:00\n",
       "3          -1 days +22:46:00\n",
       "4          -1 days +23:58:00\n",
       "5          -1 days +22:22:00\n",
       "6          -1 days +23:20:00\n",
       "7          -1 days +02:30:00\n",
       "8          -1 days +23:12:00\n",
       "9          -1 days +23:47:00\n",
       "10         -1 days +23:33:00\n",
       "11         -1 days +21:55:00\n",
       "12         -1 days +23:20:00\n",
       "13         -1 days +23:31:00\n",
       "14           0 days 21:38:00\n",
       "15         -1 days +23:08:00\n",
       "16         -1 days +23:15:00\n",
       "17         -1 days +23:10:00\n",
       "18         -1 days +23:47:00\n",
       "19         -1 days +23:56:00\n",
       "20         -1 days +23:26:00\n",
       "21         -1 days +23:28:00\n",
       "22         -1 days +21:22:00\n",
       "23         -1 days +23:59:00\n",
       "24         -1 days +21:38:00\n",
       "25         -1 days +22:55:00\n",
       "26         -1 days +23:50:00\n",
       "27         -1 days +22:52:00\n",
       "28         -1 days +08:33:00\n",
       "29         -1 days +19:53:00\n",
       "                 ...        \n",
       "255421    -78 days +02:38:00\n",
       "255422    -15 days +00:47:00\n",
       "255423     -7 days +00:36:00\n",
       "255424     -1 days +23:47:00\n",
       "255425     -1 days +23:20:00\n",
       "255426     -1 days +22:13:00\n",
       "255427     -1 days +22:18:00\n",
       "255428     -1 days +23:46:00\n",
       "255429     -1 days +21:42:00\n",
       "255430     -1 days +23:50:00\n",
       "255431     -1 days +18:19:00\n",
       "255432     -1 days +23:26:00\n",
       "255433     -1 days +10:53:00\n",
       "255434       0 days 00:00:00\n",
       "255435     -1 days +22:22:00\n",
       "255436     -1 days +23:26:00\n",
       "255437     -1 days +20:07:00\n",
       "255438                   NaT\n",
       "255439     -1 days +21:18:00\n",
       "255440     -1 days +23:56:00\n",
       "255441     -1 days +20:35:00\n",
       "255442     -1 days +21:09:00\n",
       "255443     -1 days +22:41:00\n",
       "255444     -5 days +20:56:00\n",
       "255445     -2 days +15:32:00\n",
       "255446     -1 days +23:45:00\n",
       "255447     -1 days +18:49:00\n",
       "255448     -1 days +21:19:00\n",
       "255449     -1 days +22:00:00\n",
       "255450     -1 days +21:47:00\n",
       "Name: INVESTIGATION_TIME, dtype: timedelta64[ns]"
      ]
     },
     "execution_count": 55,
     "metadata": {},
     "output_type": "execute_result"
    }
   ],
   "source": [
    "dfsql['INVESTIGATION_TIME']"
   ]
  },
  {
   "cell_type": "code",
   "execution_count": 59,
   "metadata": {
    "collapsed": true
   },
   "outputs": [],
   "source": [
    "dfsql['INVESTIGATION_TIME'] = dfsql['REPORT_DAT_FORMAT'] - dfsql['END_DATE_FORMAT'] "
   ]
  },
  {
   "cell_type": "code",
   "execution_count": 60,
   "metadata": {
    "collapsed": false
   },
   "outputs": [
    {
     "data": {
      "text/plain": [
       "0        184 days 00:02:00\n",
       "1         72 days 21:52:00\n",
       "2          0 days 02:00:00\n",
       "3          0 days 01:14:00\n",
       "4          0 days 00:02:00\n",
       "5          0 days 01:38:00\n",
       "6          0 days 00:40:00\n",
       "7          0 days 21:30:00\n",
       "8          0 days 00:48:00\n",
       "9          0 days 00:13:00\n",
       "10         0 days 00:27:00\n",
       "11         0 days 02:05:00\n",
       "12         0 days 00:40:00\n",
       "13         0 days 00:29:00\n",
       "14       -1 days +02:22:00\n",
       "15         0 days 00:52:00\n",
       "16         0 days 00:45:00\n",
       "17         0 days 00:50:00\n",
       "18         0 days 00:13:00\n",
       "19         0 days 00:04:00\n",
       "20         0 days 00:34:00\n",
       "21         0 days 00:32:00\n",
       "22         0 days 02:38:00\n",
       "23         0 days 00:01:00\n",
       "24         0 days 02:22:00\n",
       "25         0 days 01:05:00\n",
       "26         0 days 00:10:00\n",
       "27         0 days 01:08:00\n",
       "28         0 days 15:27:00\n",
       "29         0 days 04:07:00\n",
       "                ...       \n",
       "255421    77 days 21:22:00\n",
       "255422    14 days 23:13:00\n",
       "255423     6 days 23:24:00\n",
       "255424     0 days 00:13:00\n",
       "255425     0 days 00:40:00\n",
       "255426     0 days 01:47:00\n",
       "255427     0 days 01:42:00\n",
       "255428     0 days 00:14:00\n",
       "255429     0 days 02:18:00\n",
       "255430     0 days 00:10:00\n",
       "255431     0 days 05:41:00\n",
       "255432     0 days 00:34:00\n",
       "255433     0 days 13:07:00\n",
       "255434     0 days 00:00:00\n",
       "255435     0 days 01:38:00\n",
       "255436     0 days 00:34:00\n",
       "255437     0 days 03:53:00\n",
       "255438                 NaT\n",
       "255439     0 days 02:42:00\n",
       "255440     0 days 00:04:00\n",
       "255441     0 days 03:25:00\n",
       "255442     0 days 02:51:00\n",
       "255443     0 days 01:19:00\n",
       "255444     4 days 03:04:00\n",
       "255445     1 days 08:28:00\n",
       "255446     0 days 00:15:00\n",
       "255447     0 days 05:11:00\n",
       "255448     0 days 02:41:00\n",
       "255449     0 days 02:00:00\n",
       "255450     0 days 02:13:00\n",
       "Name: INVESTIGATION_TIME, dtype: timedelta64[ns]"
      ]
     },
     "execution_count": 60,
     "metadata": {},
     "output_type": "execute_result"
    }
   ],
   "source": [
    "dfsql['INVESTIGATION_TIME']"
   ]
  },
  {
   "cell_type": "code",
   "execution_count": null,
   "metadata": {
    "collapsed": true
   },
   "outputs": [],
   "source": []
  }
 ],
 "metadata": {
  "anaconda-cloud": {},
  "kernelspec": {
   "display_name": "Python [Root]",
   "language": "python",
   "name": "Python [Root]"
  },
  "language_info": {
   "codemirror_mode": {
    "name": "ipython",
    "version": 2
   },
   "file_extension": ".py",
   "mimetype": "text/x-python",
   "name": "python",
   "nbconvert_exporter": "python",
   "pygments_lexer": "ipython2",
   "version": "2.7.12"
  }
 },
 "nbformat": 4,
 "nbformat_minor": 0
}
